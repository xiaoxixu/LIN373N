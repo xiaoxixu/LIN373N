{
 "cells": [
  {
   "cell_type": "code",
   "execution_count": 1,
   "metadata": {},
   "outputs": [
    {
     "name": "stdout",
     "output_type": "stream",
     "text": [
      "Populating the interactive namespace from numpy and matplotlib\n"
     ]
    }
   ],
   "source": [
    "import pandas as pd\n",
    "from sklearn.linear_model import LogisticRegression\n",
    "from sklearn.model_selection import train_test_split\n",
    "from sklearn.model_selection import cross_val_score\n",
    "from sklearn.feature_extraction.text import CountVectorizer\n",
    "from sklearn.feature_extraction.text import TfidfVectorizer\n",
    "from sklearn.metrics import confusion_matrix\n",
    "from sklearn import metrics\n",
    "from sklearn.compose import ColumnTransformer\n",
    "import scipy\n",
    "%pylab inline"
   ]
  },
  {
   "cell_type": "code",
   "execution_count": 2,
   "metadata": {},
   "outputs": [
    {
     "data": {
      "text/html": [
       "<div>\n",
       "<style scoped>\n",
       "    .dataframe tbody tr th:only-of-type {\n",
       "        vertical-align: middle;\n",
       "    }\n",
       "\n",
       "    .dataframe tbody tr th {\n",
       "        vertical-align: top;\n",
       "    }\n",
       "\n",
       "    .dataframe thead th {\n",
       "        text-align: right;\n",
       "    }\n",
       "</style>\n",
       "<table border=\"1\" class=\"dataframe\">\n",
       "  <thead>\n",
       "    <tr style=\"text-align: right;\">\n",
       "      <th></th>\n",
       "      <th>Dialogue</th>\n",
       "      <th>Topic</th>\n",
       "    </tr>\n",
       "  </thead>\n",
       "  <tbody>\n",
       "    <tr>\n",
       "      <th>0</th>\n",
       "      <td>The kitchen stinks . __eou__ I'll throw out th...</td>\n",
       "      <td>1</td>\n",
       "    </tr>\n",
       "    <tr>\n",
       "      <th>1</th>\n",
       "      <td>So Dick , how about getting some coffee for to...</td>\n",
       "      <td>1</td>\n",
       "    </tr>\n",
       "    <tr>\n",
       "      <th>2</th>\n",
       "      <td>Are things still going badly with your housegu...</td>\n",
       "      <td>1</td>\n",
       "    </tr>\n",
       "    <tr>\n",
       "      <th>3</th>\n",
       "      <td>Would you mind waiting a while ? __eou__ Well ...</td>\n",
       "      <td>1</td>\n",
       "    </tr>\n",
       "    <tr>\n",
       "      <th>4</th>\n",
       "      <td>Are you going to the annual party ? I can give...</td>\n",
       "      <td>1</td>\n",
       "    </tr>\n",
       "    <tr>\n",
       "      <th>...</th>\n",
       "      <td>...</td>\n",
       "      <td>...</td>\n",
       "    </tr>\n",
       "    <tr>\n",
       "      <th>13113</th>\n",
       "      <td>You have done an excellent job this year and w...</td>\n",
       "      <td>10</td>\n",
       "    </tr>\n",
       "    <tr>\n",
       "      <th>13114</th>\n",
       "      <td>Lindsay Tipping gave me your name as a referen...</td>\n",
       "      <td>10</td>\n",
       "    </tr>\n",
       "    <tr>\n",
       "      <th>13115</th>\n",
       "      <td>The consignments of chemical instruments have ...</td>\n",
       "      <td>10</td>\n",
       "    </tr>\n",
       "    <tr>\n",
       "      <th>13116</th>\n",
       "      <td>good morning . How can I help you ? __eou__ I'...</td>\n",
       "      <td>10</td>\n",
       "    </tr>\n",
       "    <tr>\n",
       "      <th>13117</th>\n",
       "      <td>May I ask you a few questions about insurance ...</td>\n",
       "      <td>10</td>\n",
       "    </tr>\n",
       "  </tbody>\n",
       "</table>\n",
       "<p>13118 rows × 2 columns</p>\n",
       "</div>"
      ],
      "text/plain": [
       "                                                Dialogue  Topic\n",
       "0      The kitchen stinks . __eou__ I'll throw out th...      1\n",
       "1      So Dick , how about getting some coffee for to...      1\n",
       "2      Are things still going badly with your housegu...      1\n",
       "3      Would you mind waiting a while ? __eou__ Well ...      1\n",
       "4      Are you going to the annual party ? I can give...      1\n",
       "...                                                  ...    ...\n",
       "13113  You have done an excellent job this year and w...     10\n",
       "13114  Lindsay Tipping gave me your name as a referen...     10\n",
       "13115  The consignments of chemical instruments have ...     10\n",
       "13116  good morning . How can I help you ? __eou__ I'...     10\n",
       "13117  May I ask you a few questions about insurance ...     10\n",
       "\n",
       "[13118 rows x 2 columns]"
      ]
     },
     "execution_count": 2,
     "metadata": {},
     "output_type": "execute_result"
    }
   ],
   "source": [
    "df = pd.read_csv('dialogues_text.csv', encoding = 'utf-8')\n",
    "df"
   ]
  },
  {
   "cell_type": "code",
   "execution_count": 3,
   "metadata": {},
   "outputs": [],
   "source": [
    "d_list = []\n",
    "for dialogue in df['Dialogue'].values:\n",
    "\n",
    "    x=dialogue.split('__eou__')[:-1]\n",
    "\n",
    "    d_list.append(x)"
   ]
  },
  {
   "cell_type": "code",
   "execution_count": 4,
   "metadata": {},
   "outputs": [
    {
     "data": {
      "text/html": [
       "<div>\n",
       "<style scoped>\n",
       "    .dataframe tbody tr th:only-of-type {\n",
       "        vertical-align: middle;\n",
       "    }\n",
       "\n",
       "    .dataframe tbody tr th {\n",
       "        vertical-align: top;\n",
       "    }\n",
       "\n",
       "    .dataframe thead th {\n",
       "        text-align: right;\n",
       "    }\n",
       "</style>\n",
       "<table border=\"1\" class=\"dataframe\">\n",
       "  <thead>\n",
       "    <tr style=\"text-align: right;\">\n",
       "      <th></th>\n",
       "      <th>Dialogue</th>\n",
       "      <th>Topic</th>\n",
       "      <th>Length</th>\n",
       "    </tr>\n",
       "  </thead>\n",
       "  <tbody>\n",
       "    <tr>\n",
       "      <th>0</th>\n",
       "      <td>The kitchen stinks . __eou__ I'll throw out th...</td>\n",
       "      <td>1</td>\n",
       "      <td>2</td>\n",
       "    </tr>\n",
       "    <tr>\n",
       "      <th>1</th>\n",
       "      <td>So Dick , how about getting some coffee for to...</td>\n",
       "      <td>1</td>\n",
       "      <td>5</td>\n",
       "    </tr>\n",
       "    <tr>\n",
       "      <th>2</th>\n",
       "      <td>Are things still going badly with your housegu...</td>\n",
       "      <td>1</td>\n",
       "      <td>4</td>\n",
       "    </tr>\n",
       "    <tr>\n",
       "      <th>3</th>\n",
       "      <td>Would you mind waiting a while ? __eou__ Well ...</td>\n",
       "      <td>1</td>\n",
       "      <td>4</td>\n",
       "    </tr>\n",
       "    <tr>\n",
       "      <th>4</th>\n",
       "      <td>Are you going to the annual party ? I can give...</td>\n",
       "      <td>1</td>\n",
       "      <td>3</td>\n",
       "    </tr>\n",
       "    <tr>\n",
       "      <th>...</th>\n",
       "      <td>...</td>\n",
       "      <td>...</td>\n",
       "      <td>...</td>\n",
       "    </tr>\n",
       "    <tr>\n",
       "      <th>13113</th>\n",
       "      <td>You have done an excellent job this year and w...</td>\n",
       "      <td>10</td>\n",
       "      <td>8</td>\n",
       "    </tr>\n",
       "    <tr>\n",
       "      <th>13114</th>\n",
       "      <td>Lindsay Tipping gave me your name as a referen...</td>\n",
       "      <td>10</td>\n",
       "      <td>6</td>\n",
       "    </tr>\n",
       "    <tr>\n",
       "      <th>13115</th>\n",
       "      <td>The consignments of chemical instruments have ...</td>\n",
       "      <td>10</td>\n",
       "      <td>9</td>\n",
       "    </tr>\n",
       "    <tr>\n",
       "      <th>13116</th>\n",
       "      <td>good morning . How can I help you ? __eou__ I'...</td>\n",
       "      <td>10</td>\n",
       "      <td>17</td>\n",
       "    </tr>\n",
       "    <tr>\n",
       "      <th>13117</th>\n",
       "      <td>May I ask you a few questions about insurance ...</td>\n",
       "      <td>10</td>\n",
       "      <td>15</td>\n",
       "    </tr>\n",
       "  </tbody>\n",
       "</table>\n",
       "<p>13118 rows × 3 columns</p>\n",
       "</div>"
      ],
      "text/plain": [
       "                                                Dialogue  Topic  Length\n",
       "0      The kitchen stinks . __eou__ I'll throw out th...      1       2\n",
       "1      So Dick , how about getting some coffee for to...      1       5\n",
       "2      Are things still going badly with your housegu...      1       4\n",
       "3      Would you mind waiting a while ? __eou__ Well ...      1       4\n",
       "4      Are you going to the annual party ? I can give...      1       3\n",
       "...                                                  ...    ...     ...\n",
       "13113  You have done an excellent job this year and w...     10       8\n",
       "13114  Lindsay Tipping gave me your name as a referen...     10       6\n",
       "13115  The consignments of chemical instruments have ...     10       9\n",
       "13116  good morning . How can I help you ? __eou__ I'...     10      17\n",
       "13117  May I ask you a few questions about insurance ...     10      15\n",
       "\n",
       "[13118 rows x 3 columns]"
      ]
     },
     "execution_count": 4,
     "metadata": {},
     "output_type": "execute_result"
    }
   ],
   "source": [
    "df['Length'] = [len(x) for x in d_list]\n",
    "df"
   ]
  },
  {
   "cell_type": "code",
   "execution_count": 5,
   "metadata": {},
   "outputs": [
    {
     "data": {
      "text/html": [
       "<div>\n",
       "<style scoped>\n",
       "    .dataframe tbody tr th:only-of-type {\n",
       "        vertical-align: middle;\n",
       "    }\n",
       "\n",
       "    .dataframe tbody tr th {\n",
       "        vertical-align: top;\n",
       "    }\n",
       "\n",
       "    .dataframe thead th {\n",
       "        text-align: right;\n",
       "    }\n",
       "</style>\n",
       "<table border=\"1\" class=\"dataframe\">\n",
       "  <thead>\n",
       "    <tr style=\"text-align: right;\">\n",
       "      <th></th>\n",
       "      <th>Dialogue</th>\n",
       "      <th>Topic</th>\n",
       "      <th>Length</th>\n",
       "    </tr>\n",
       "  </thead>\n",
       "  <tbody>\n",
       "    <tr>\n",
       "      <th>0</th>\n",
       "      <td>The kitchen stinks .  I'll throw out the garba...</td>\n",
       "      <td>1</td>\n",
       "      <td>2</td>\n",
       "    </tr>\n",
       "    <tr>\n",
       "      <th>1</th>\n",
       "      <td>So Dick , how about getting some coffee for to...</td>\n",
       "      <td>1</td>\n",
       "      <td>5</td>\n",
       "    </tr>\n",
       "    <tr>\n",
       "      <th>2</th>\n",
       "      <td>Are things still going badly with your housegu...</td>\n",
       "      <td>1</td>\n",
       "      <td>4</td>\n",
       "    </tr>\n",
       "    <tr>\n",
       "      <th>3</th>\n",
       "      <td>Would you mind waiting a while ?  Well , how l...</td>\n",
       "      <td>1</td>\n",
       "      <td>4</td>\n",
       "    </tr>\n",
       "    <tr>\n",
       "      <th>4</th>\n",
       "      <td>Are you going to the annual party ? I can give...</td>\n",
       "      <td>1</td>\n",
       "      <td>3</td>\n",
       "    </tr>\n",
       "    <tr>\n",
       "      <th>...</th>\n",
       "      <td>...</td>\n",
       "      <td>...</td>\n",
       "      <td>...</td>\n",
       "    </tr>\n",
       "    <tr>\n",
       "      <th>13113</th>\n",
       "      <td>You have done an excellent job this year and w...</td>\n",
       "      <td>10</td>\n",
       "      <td>8</td>\n",
       "    </tr>\n",
       "    <tr>\n",
       "      <th>13114</th>\n",
       "      <td>Lindsay Tipping gave me your name as a referen...</td>\n",
       "      <td>10</td>\n",
       "      <td>6</td>\n",
       "    </tr>\n",
       "    <tr>\n",
       "      <th>13115</th>\n",
       "      <td>The consignments of chemical instruments have ...</td>\n",
       "      <td>10</td>\n",
       "      <td>9</td>\n",
       "    </tr>\n",
       "    <tr>\n",
       "      <th>13116</th>\n",
       "      <td>good morning . How can I help you ?  I'd like ...</td>\n",
       "      <td>10</td>\n",
       "      <td>17</td>\n",
       "    </tr>\n",
       "    <tr>\n",
       "      <th>13117</th>\n",
       "      <td>May I ask you a few questions about insurance ...</td>\n",
       "      <td>10</td>\n",
       "      <td>15</td>\n",
       "    </tr>\n",
       "  </tbody>\n",
       "</table>\n",
       "<p>13118 rows × 3 columns</p>\n",
       "</div>"
      ],
      "text/plain": [
       "                                                Dialogue  Topic  Length\n",
       "0      The kitchen stinks .  I'll throw out the garba...      1       2\n",
       "1      So Dick , how about getting some coffee for to...      1       5\n",
       "2      Are things still going badly with your housegu...      1       4\n",
       "3      Would you mind waiting a while ?  Well , how l...      1       4\n",
       "4      Are you going to the annual party ? I can give...      1       3\n",
       "...                                                  ...    ...     ...\n",
       "13113  You have done an excellent job this year and w...     10       8\n",
       "13114  Lindsay Tipping gave me your name as a referen...     10       6\n",
       "13115  The consignments of chemical instruments have ...     10       9\n",
       "13116  good morning . How can I help you ?  I'd like ...     10      17\n",
       "13117  May I ask you a few questions about insurance ...     10      15\n",
       "\n",
       "[13118 rows x 3 columns]"
      ]
     },
     "execution_count": 5,
     "metadata": {},
     "output_type": "execute_result"
    }
   ],
   "source": [
    "def remove_eou(x):\n",
    "    x = x.replace('__eou__', '')\n",
    "    return x   \n",
    "df['Dialogue'] = df['Dialogue'].apply(remove_eou)\n",
    "df"
   ]
  },
  {
   "cell_type": "code",
   "execution_count": 6,
   "metadata": {},
   "outputs": [
    {
     "data": {
      "text/html": [
       "<div>\n",
       "<style scoped>\n",
       "    .dataframe tbody tr th:only-of-type {\n",
       "        vertical-align: middle;\n",
       "    }\n",
       "\n",
       "    .dataframe tbody tr th {\n",
       "        vertical-align: top;\n",
       "    }\n",
       "\n",
       "    .dataframe thead th {\n",
       "        text-align: right;\n",
       "    }\n",
       "</style>\n",
       "<table border=\"1\" class=\"dataframe\">\n",
       "  <thead>\n",
       "    <tr style=\"text-align: right;\">\n",
       "      <th></th>\n",
       "      <th>Dialogue</th>\n",
       "      <th>Topic</th>\n",
       "      <th>Length</th>\n",
       "    </tr>\n",
       "  </thead>\n",
       "  <tbody>\n",
       "    <tr>\n",
       "      <th>0</th>\n",
       "      <td>The kitchen stinks .  I'll throw out the garba...</td>\n",
       "      <td>OrdinaryLife</td>\n",
       "      <td>2</td>\n",
       "    </tr>\n",
       "    <tr>\n",
       "      <th>1</th>\n",
       "      <td>So Dick , how about getting some coffee for to...</td>\n",
       "      <td>OrdinaryLife</td>\n",
       "      <td>5</td>\n",
       "    </tr>\n",
       "    <tr>\n",
       "      <th>2</th>\n",
       "      <td>Are things still going badly with your housegu...</td>\n",
       "      <td>OrdinaryLife</td>\n",
       "      <td>4</td>\n",
       "    </tr>\n",
       "    <tr>\n",
       "      <th>3</th>\n",
       "      <td>Would you mind waiting a while ?  Well , how l...</td>\n",
       "      <td>OrdinaryLife</td>\n",
       "      <td>4</td>\n",
       "    </tr>\n",
       "    <tr>\n",
       "      <th>4</th>\n",
       "      <td>Are you going to the annual party ? I can give...</td>\n",
       "      <td>OrdinaryLife</td>\n",
       "      <td>3</td>\n",
       "    </tr>\n",
       "    <tr>\n",
       "      <th>...</th>\n",
       "      <td>...</td>\n",
       "      <td>...</td>\n",
       "      <td>...</td>\n",
       "    </tr>\n",
       "    <tr>\n",
       "      <th>13113</th>\n",
       "      <td>You have done an excellent job this year and w...</td>\n",
       "      <td>Finance</td>\n",
       "      <td>8</td>\n",
       "    </tr>\n",
       "    <tr>\n",
       "      <th>13114</th>\n",
       "      <td>Lindsay Tipping gave me your name as a referen...</td>\n",
       "      <td>Finance</td>\n",
       "      <td>6</td>\n",
       "    </tr>\n",
       "    <tr>\n",
       "      <th>13115</th>\n",
       "      <td>The consignments of chemical instruments have ...</td>\n",
       "      <td>Finance</td>\n",
       "      <td>9</td>\n",
       "    </tr>\n",
       "    <tr>\n",
       "      <th>13116</th>\n",
       "      <td>good morning . How can I help you ?  I'd like ...</td>\n",
       "      <td>Finance</td>\n",
       "      <td>17</td>\n",
       "    </tr>\n",
       "    <tr>\n",
       "      <th>13117</th>\n",
       "      <td>May I ask you a few questions about insurance ...</td>\n",
       "      <td>Finance</td>\n",
       "      <td>15</td>\n",
       "    </tr>\n",
       "  </tbody>\n",
       "</table>\n",
       "<p>13118 rows × 3 columns</p>\n",
       "</div>"
      ],
      "text/plain": [
       "                                                Dialogue         Topic  Length\n",
       "0      The kitchen stinks .  I'll throw out the garba...  OrdinaryLife       2\n",
       "1      So Dick , how about getting some coffee for to...  OrdinaryLife       5\n",
       "2      Are things still going badly with your housegu...  OrdinaryLife       4\n",
       "3      Would you mind waiting a while ?  Well , how l...  OrdinaryLife       4\n",
       "4      Are you going to the annual party ? I can give...  OrdinaryLife       3\n",
       "...                                                  ...           ...     ...\n",
       "13113  You have done an excellent job this year and w...       Finance       8\n",
       "13114  Lindsay Tipping gave me your name as a referen...       Finance       6\n",
       "13115  The consignments of chemical instruments have ...       Finance       9\n",
       "13116  good morning . How can I help you ?  I'd like ...       Finance      17\n",
       "13117  May I ask you a few questions about insurance ...       Finance      15\n",
       "\n",
       "[13118 rows x 3 columns]"
      ]
     },
     "execution_count": 6,
     "metadata": {},
     "output_type": "execute_result"
    }
   ],
   "source": [
    "df['Topic'].replace({1:'OrdinaryLife', 2:'SchoolLife', 3:'Culture&Education', 4:'Attitude&Emotion', 5:'Relationship', \n",
    "                     6:'Tourism', 7:'Health', 8:'Work', 9:'Politics', 10:'Finance'}, inplace=True)\n",
    "df"
   ]
  },
  {
   "cell_type": "markdown",
   "metadata": {},
   "source": [
    "## Topic Counts ##"
   ]
  },
  {
   "cell_type": "code",
   "execution_count": 7,
   "metadata": {},
   "outputs": [
    {
     "name": "stdout",
     "output_type": "stream",
     "text": [
      "Topic\n",
      "Attitude&Emotion      667\n",
      "Culture&Education      55\n",
      "Finance               485\n",
      "Health                267\n",
      "OrdinaryLife         3646\n",
      "Politics              131\n",
      "Relationship         4391\n",
      "SchoolLife            487\n",
      "Tourism              1065\n",
      "Work                 1924\n",
      "Name: Dialogue, dtype: int64\n"
     ]
    },
    {
     "data": {
      "text/plain": [
       "<AxesSubplot:xlabel='Topic'>"
      ]
     },
     "execution_count": 7,
     "metadata": {},
     "output_type": "execute_result"
    },
    {
     "data": {
      "image/png": "[encoded data removed]",
      "text/plain": [
       "<Figure size 432x288 with 1 Axes>"
      ]
     },
     "metadata": {
      "needs_background": "light"
     },
     "output_type": "display_data"
    }
   ],
   "source": [
    "print(df.groupby('Topic')['Dialogue'].agg('count'))\n",
    "df.groupby('Topic')['Dialogue'].agg('count').plot(kind='bar')"
   ]
  },
  {
   "cell_type": "code",
   "execution_count": 8,
   "metadata": {},
   "outputs": [
    {
     "data": {
      "text/plain": [
       "Length\n",
       "2      565\n",
       "3      453\n",
       "4     2302\n",
       "5     1113\n",
       "6     1417\n",
       "7      941\n",
       "8     1253\n",
       "9      854\n",
       "10    1159\n",
       "11     525\n",
       "12    1147\n",
       "13     325\n",
       "14     321\n",
       "15     183\n",
       "16     188\n",
       "17     108\n",
       "18      70\n",
       "19      42\n",
       "20      52\n",
       "21      31\n",
       "22      14\n",
       "23      14\n",
       "24      11\n",
       "25       4\n",
       "26       9\n",
       "27       1\n",
       "28       4\n",
       "29       5\n",
       "30       2\n",
       "31       2\n",
       "32       2\n",
       "35       1\n",
       "Name: Dialogue, dtype: int64"
      ]
     },
     "execution_count": 8,
     "metadata": {},
     "output_type": "execute_result"
    }
   ],
   "source": [
    "df.groupby('Length')['Dialogue'].agg('count')"
   ]
  },
  {
   "cell_type": "code",
   "execution_count": 9,
   "metadata": {},
   "outputs": [
    {
     "data": {
      "text/html": [
       "<div>\n",
       "<style scoped>\n",
       "    .dataframe tbody tr th:only-of-type {\n",
       "        vertical-align: middle;\n",
       "    }\n",
       "\n",
       "    .dataframe tbody tr th {\n",
       "        vertical-align: top;\n",
       "    }\n",
       "\n",
       "    .dataframe thead tr th {\n",
       "        text-align: left;\n",
       "    }\n",
       "\n",
       "    .dataframe thead tr:last-of-type th {\n",
       "        text-align: right;\n",
       "    }\n",
       "</style>\n",
       "<table border=\"1\" class=\"dataframe\">\n",
       "  <thead>\n",
       "    <tr>\n",
       "      <th></th>\n",
       "      <th colspan=\"21\" halign=\"left\">Dialogue</th>\n",
       "    </tr>\n",
       "    <tr>\n",
       "      <th>Length</th>\n",
       "      <th>2</th>\n",
       "      <th>3</th>\n",
       "      <th>4</th>\n",
       "      <th>5</th>\n",
       "      <th>6</th>\n",
       "      <th>7</th>\n",
       "      <th>8</th>\n",
       "      <th>9</th>\n",
       "      <th>10</th>\n",
       "      <th>11</th>\n",
       "      <th>...</th>\n",
       "      <th>24</th>\n",
       "      <th>25</th>\n",
       "      <th>26</th>\n",
       "      <th>27</th>\n",
       "      <th>28</th>\n",
       "      <th>29</th>\n",
       "      <th>30</th>\n",
       "      <th>31</th>\n",
       "      <th>32</th>\n",
       "      <th>35</th>\n",
       "    </tr>\n",
       "    <tr>\n",
       "      <th>Topic</th>\n",
       "      <th></th>\n",
       "      <th></th>\n",
       "      <th></th>\n",
       "      <th></th>\n",
       "      <th></th>\n",
       "      <th></th>\n",
       "      <th></th>\n",
       "      <th></th>\n",
       "      <th></th>\n",
       "      <th></th>\n",
       "      <th></th>\n",
       "      <th></th>\n",
       "      <th></th>\n",
       "      <th></th>\n",
       "      <th></th>\n",
       "      <th></th>\n",
       "      <th></th>\n",
       "      <th></th>\n",
       "      <th></th>\n",
       "      <th></th>\n",
       "      <th></th>\n",
       "    </tr>\n",
       "  </thead>\n",
       "  <tbody>\n",
       "    <tr>\n",
       "      <th>Attitude&amp;Emotion</th>\n",
       "      <td>76.0</td>\n",
       "      <td>43.0</td>\n",
       "      <td>170.0</td>\n",
       "      <td>51.0</td>\n",
       "      <td>63.0</td>\n",
       "      <td>49.0</td>\n",
       "      <td>43.0</td>\n",
       "      <td>34.0</td>\n",
       "      <td>47.0</td>\n",
       "      <td>19.0</td>\n",
       "      <td>...</td>\n",
       "      <td>0.0</td>\n",
       "      <td>0.0</td>\n",
       "      <td>0.0</td>\n",
       "      <td>0.0</td>\n",
       "      <td>0.0</td>\n",
       "      <td>0.0</td>\n",
       "      <td>0.0</td>\n",
       "      <td>0.0</td>\n",
       "      <td>0.0</td>\n",
       "      <td>0.0</td>\n",
       "    </tr>\n",
       "    <tr>\n",
       "      <th>Culture&amp;Education</th>\n",
       "      <td>0.0</td>\n",
       "      <td>0.0</td>\n",
       "      <td>2.0</td>\n",
       "      <td>3.0</td>\n",
       "      <td>5.0</td>\n",
       "      <td>5.0</td>\n",
       "      <td>6.0</td>\n",
       "      <td>2.0</td>\n",
       "      <td>3.0</td>\n",
       "      <td>3.0</td>\n",
       "      <td>...</td>\n",
       "      <td>0.0</td>\n",
       "      <td>0.0</td>\n",
       "      <td>0.0</td>\n",
       "      <td>0.0</td>\n",
       "      <td>0.0</td>\n",
       "      <td>0.0</td>\n",
       "      <td>0.0</td>\n",
       "      <td>0.0</td>\n",
       "      <td>0.0</td>\n",
       "      <td>0.0</td>\n",
       "    </tr>\n",
       "    <tr>\n",
       "      <th>Finance</th>\n",
       "      <td>0.0</td>\n",
       "      <td>2.0</td>\n",
       "      <td>21.0</td>\n",
       "      <td>45.0</td>\n",
       "      <td>74.0</td>\n",
       "      <td>62.0</td>\n",
       "      <td>69.0</td>\n",
       "      <td>33.0</td>\n",
       "      <td>53.0</td>\n",
       "      <td>22.0</td>\n",
       "      <td>...</td>\n",
       "      <td>2.0</td>\n",
       "      <td>1.0</td>\n",
       "      <td>0.0</td>\n",
       "      <td>0.0</td>\n",
       "      <td>0.0</td>\n",
       "      <td>0.0</td>\n",
       "      <td>0.0</td>\n",
       "      <td>0.0</td>\n",
       "      <td>0.0</td>\n",
       "      <td>0.0</td>\n",
       "    </tr>\n",
       "    <tr>\n",
       "      <th>Health</th>\n",
       "      <td>0.0</td>\n",
       "      <td>6.0</td>\n",
       "      <td>14.0</td>\n",
       "      <td>9.0</td>\n",
       "      <td>17.0</td>\n",
       "      <td>18.0</td>\n",
       "      <td>22.0</td>\n",
       "      <td>17.0</td>\n",
       "      <td>83.0</td>\n",
       "      <td>19.0</td>\n",
       "      <td>...</td>\n",
       "      <td>1.0</td>\n",
       "      <td>0.0</td>\n",
       "      <td>0.0</td>\n",
       "      <td>0.0</td>\n",
       "      <td>1.0</td>\n",
       "      <td>0.0</td>\n",
       "      <td>0.0</td>\n",
       "      <td>0.0</td>\n",
       "      <td>0.0</td>\n",
       "      <td>0.0</td>\n",
       "    </tr>\n",
       "    <tr>\n",
       "      <th>OrdinaryLife</th>\n",
       "      <td>124.0</td>\n",
       "      <td>80.0</td>\n",
       "      <td>488.0</td>\n",
       "      <td>342.0</td>\n",
       "      <td>398.0</td>\n",
       "      <td>279.0</td>\n",
       "      <td>365.0</td>\n",
       "      <td>252.0</td>\n",
       "      <td>323.0</td>\n",
       "      <td>170.0</td>\n",
       "      <td>...</td>\n",
       "      <td>2.0</td>\n",
       "      <td>1.0</td>\n",
       "      <td>6.0</td>\n",
       "      <td>0.0</td>\n",
       "      <td>1.0</td>\n",
       "      <td>3.0</td>\n",
       "      <td>1.0</td>\n",
       "      <td>0.0</td>\n",
       "      <td>0.0</td>\n",
       "      <td>1.0</td>\n",
       "    </tr>\n",
       "    <tr>\n",
       "      <th>Politics</th>\n",
       "      <td>1.0</td>\n",
       "      <td>0.0</td>\n",
       "      <td>2.0</td>\n",
       "      <td>1.0</td>\n",
       "      <td>0.0</td>\n",
       "      <td>5.0</td>\n",
       "      <td>6.0</td>\n",
       "      <td>2.0</td>\n",
       "      <td>4.0</td>\n",
       "      <td>3.0</td>\n",
       "      <td>...</td>\n",
       "      <td>0.0</td>\n",
       "      <td>0.0</td>\n",
       "      <td>0.0</td>\n",
       "      <td>0.0</td>\n",
       "      <td>0.0</td>\n",
       "      <td>0.0</td>\n",
       "      <td>0.0</td>\n",
       "      <td>0.0</td>\n",
       "      <td>0.0</td>\n",
       "      <td>0.0</td>\n",
       "    </tr>\n",
       "    <tr>\n",
       "      <th>Relationship</th>\n",
       "      <td>303.0</td>\n",
       "      <td>229.0</td>\n",
       "      <td>930.0</td>\n",
       "      <td>352.0</td>\n",
       "      <td>438.0</td>\n",
       "      <td>276.0</td>\n",
       "      <td>356.0</td>\n",
       "      <td>297.0</td>\n",
       "      <td>291.0</td>\n",
       "      <td>178.0</td>\n",
       "      <td>...</td>\n",
       "      <td>3.0</td>\n",
       "      <td>2.0</td>\n",
       "      <td>0.0</td>\n",
       "      <td>1.0</td>\n",
       "      <td>1.0</td>\n",
       "      <td>1.0</td>\n",
       "      <td>0.0</td>\n",
       "      <td>0.0</td>\n",
       "      <td>0.0</td>\n",
       "      <td>0.0</td>\n",
       "    </tr>\n",
       "    <tr>\n",
       "      <th>SchoolLife</th>\n",
       "      <td>12.0</td>\n",
       "      <td>11.0</td>\n",
       "      <td>49.0</td>\n",
       "      <td>18.0</td>\n",
       "      <td>41.0</td>\n",
       "      <td>22.0</td>\n",
       "      <td>67.0</td>\n",
       "      <td>33.0</td>\n",
       "      <td>63.0</td>\n",
       "      <td>20.0</td>\n",
       "      <td>...</td>\n",
       "      <td>0.0</td>\n",
       "      <td>0.0</td>\n",
       "      <td>1.0</td>\n",
       "      <td>0.0</td>\n",
       "      <td>0.0</td>\n",
       "      <td>1.0</td>\n",
       "      <td>1.0</td>\n",
       "      <td>1.0</td>\n",
       "      <td>0.0</td>\n",
       "      <td>0.0</td>\n",
       "    </tr>\n",
       "    <tr>\n",
       "      <th>Tourism</th>\n",
       "      <td>9.0</td>\n",
       "      <td>26.0</td>\n",
       "      <td>139.0</td>\n",
       "      <td>153.0</td>\n",
       "      <td>158.0</td>\n",
       "      <td>93.0</td>\n",
       "      <td>120.0</td>\n",
       "      <td>62.0</td>\n",
       "      <td>98.0</td>\n",
       "      <td>31.0</td>\n",
       "      <td>...</td>\n",
       "      <td>0.0</td>\n",
       "      <td>0.0</td>\n",
       "      <td>1.0</td>\n",
       "      <td>0.0</td>\n",
       "      <td>1.0</td>\n",
       "      <td>0.0</td>\n",
       "      <td>0.0</td>\n",
       "      <td>0.0</td>\n",
       "      <td>1.0</td>\n",
       "      <td>0.0</td>\n",
       "    </tr>\n",
       "    <tr>\n",
       "      <th>Work</th>\n",
       "      <td>40.0</td>\n",
       "      <td>56.0</td>\n",
       "      <td>487.0</td>\n",
       "      <td>139.0</td>\n",
       "      <td>223.0</td>\n",
       "      <td>132.0</td>\n",
       "      <td>199.0</td>\n",
       "      <td>122.0</td>\n",
       "      <td>194.0</td>\n",
       "      <td>60.0</td>\n",
       "      <td>...</td>\n",
       "      <td>3.0</td>\n",
       "      <td>0.0</td>\n",
       "      <td>1.0</td>\n",
       "      <td>0.0</td>\n",
       "      <td>0.0</td>\n",
       "      <td>0.0</td>\n",
       "      <td>0.0</td>\n",
       "      <td>1.0</td>\n",
       "      <td>1.0</td>\n",
       "      <td>0.0</td>\n",
       "    </tr>\n",
       "  </tbody>\n",
       "</table>\n",
       "<p>10 rows × 32 columns</p>\n",
       "</div>"
      ],
      "text/plain": [
       "                  Dialogue                                                   \\\n",
       "Length                  2      3      4      5      6      7      8      9    \n",
       "Topic                                                                         \n",
       "Attitude&Emotion      76.0   43.0  170.0   51.0   63.0   49.0   43.0   34.0   \n",
       "Culture&Education      0.0    0.0    2.0    3.0    5.0    5.0    6.0    2.0   \n",
       "Finance                0.0    2.0   21.0   45.0   74.0   62.0   69.0   33.0   \n",
       "Health                 0.0    6.0   14.0    9.0   17.0   18.0   22.0   17.0   \n",
       "OrdinaryLife         124.0   80.0  488.0  342.0  398.0  279.0  365.0  252.0   \n",
       "Politics               1.0    0.0    2.0    1.0    0.0    5.0    6.0    2.0   \n",
       "Relationship         303.0  229.0  930.0  352.0  438.0  276.0  356.0  297.0   \n",
       "SchoolLife            12.0   11.0   49.0   18.0   41.0   22.0   67.0   33.0   \n",
       "Tourism                9.0   26.0  139.0  153.0  158.0   93.0  120.0   62.0   \n",
       "Work                  40.0   56.0  487.0  139.0  223.0  132.0  199.0  122.0   \n",
       "\n",
       "                                 ...                                          \\\n",
       "Length                10     11  ...   24   25   26   27   28   29   30   31   \n",
       "Topic                            ...                                           \n",
       "Attitude&Emotion    47.0   19.0  ...  0.0  0.0  0.0  0.0  0.0  0.0  0.0  0.0   \n",
       "Culture&Education    3.0    3.0  ...  0.0  0.0  0.0  0.0  0.0  0.0  0.0  0.0   \n",
       "Finance             53.0   22.0  ...  2.0  1.0  0.0  0.0  0.0  0.0  0.0  0.0   \n",
       "Health              83.0   19.0  ...  1.0  0.0  0.0  0.0  1.0  0.0  0.0  0.0   \n",
       "OrdinaryLife       323.0  170.0  ...  2.0  1.0  6.0  0.0  1.0  3.0  1.0  0.0   \n",
       "Politics             4.0    3.0  ...  0.0  0.0  0.0  0.0  0.0  0.0  0.0  0.0   \n",
       "Relationship       291.0  178.0  ...  3.0  2.0  0.0  1.0  1.0  1.0  0.0  0.0   \n",
       "SchoolLife          63.0   20.0  ...  0.0  0.0  1.0  0.0  0.0  1.0  1.0  1.0   \n",
       "Tourism             98.0   31.0  ...  0.0  0.0  1.0  0.0  1.0  0.0  0.0  0.0   \n",
       "Work               194.0   60.0  ...  3.0  0.0  1.0  0.0  0.0  0.0  0.0  1.0   \n",
       "\n",
       "                             \n",
       "Length              32   35  \n",
       "Topic                        \n",
       "Attitude&Emotion   0.0  0.0  \n",
       "Culture&Education  0.0  0.0  \n",
       "Finance            0.0  0.0  \n",
       "Health             0.0  0.0  \n",
       "OrdinaryLife       0.0  1.0  \n",
       "Politics           0.0  0.0  \n",
       "Relationship       0.0  0.0  \n",
       "SchoolLife         0.0  0.0  \n",
       "Tourism            1.0  0.0  \n",
       "Work               1.0  0.0  \n",
       "\n",
       "[10 rows x 32 columns]"
      ]
     },
     "execution_count": 9,
     "metadata": {},
     "output_type": "execute_result"
    }
   ],
   "source": [
    "df.groupby(['Topic','Length'], as_index = False).count().pivot('Topic', 'Length').fillna(0)"
   ]
  },
  {
   "cell_type": "code",
   "execution_count": 10,
   "metadata": {},
   "outputs": [
    {
     "name": "stderr",
     "output_type": "stream",
     "text": [
      "<ipython-input-10-4d624ae2817d>:1: UserWarning: Boolean Series key will be reindexed to match DataFrame index.\n",
      "  df[df['Topic'] == 'Politics'][df['Length'] == 4]\n"
     ]
    },
    {
     "data": {
      "text/html": [
       "<div>\n",
       "<style scoped>\n",
       "    .dataframe tbody tr th:only-of-type {\n",
       "        vertical-align: middle;\n",
       "    }\n",
       "\n",
       "    .dataframe tbody tr th {\n",
       "        vertical-align: top;\n",
       "    }\n",
       "\n",
       "    .dataframe thead th {\n",
       "        text-align: right;\n",
       "    }\n",
       "</style>\n",
       "<table border=\"1\" class=\"dataframe\">\n",
       "  <thead>\n",
       "    <tr style=\"text-align: right;\">\n",
       "      <th></th>\n",
       "      <th>Dialogue</th>\n",
       "      <th>Topic</th>\n",
       "      <th>Length</th>\n",
       "    </tr>\n",
       "  </thead>\n",
       "  <tbody>\n",
       "    <tr>\n",
       "      <th>12402</th>\n",
       "      <td>Freeze ! Police ! Put your hands over your hea...</td>\n",
       "      <td>Politics</td>\n",
       "      <td>4</td>\n",
       "    </tr>\n",
       "    <tr>\n",
       "      <th>12413</th>\n",
       "      <td>Please tell us the exact time when the big fir...</td>\n",
       "      <td>Politics</td>\n",
       "      <td>4</td>\n",
       "    </tr>\n",
       "  </tbody>\n",
       "</table>\n",
       "</div>"
      ],
      "text/plain": [
       "                                                Dialogue     Topic  Length\n",
       "12402  Freeze ! Police ! Put your hands over your hea...  Politics       4\n",
       "12413  Please tell us the exact time when the big fir...  Politics       4"
      ]
     },
     "execution_count": 10,
     "metadata": {},
     "output_type": "execute_result"
    }
   ],
   "source": [
    "df[df['Topic'] == 'Politics'][df['Length'] == 4]"
   ]
  },
  {
   "cell_type": "code",
   "execution_count": 11,
   "metadata": {},
   "outputs": [
    {
     "data": {
      "text/plain": [
       "0        OrdinaryLife\n",
       "1        OrdinaryLife\n",
       "2        OrdinaryLife\n",
       "3        OrdinaryLife\n",
       "4        OrdinaryLife\n",
       "             ...     \n",
       "13113         Finance\n",
       "13114         Finance\n",
       "13115         Finance\n",
       "13116         Finance\n",
       "13117         Finance\n",
       "Name: Topic, Length: 13118, dtype: object"
      ]
     },
     "execution_count": 11,
     "metadata": {},
     "output_type": "execute_result"
    }
   ],
   "source": [
    "X = df['Dialogue'].values\n",
    "y = df['Topic']\n",
    "y"
   ]
  },
  {
   "cell_type": "code",
   "execution_count": 12,
   "metadata": {},
   "outputs": [
    {
     "data": {
      "text/plain": [
       "0        OrdinaryLife\n",
       "1        OrdinaryLife\n",
       "2        OrdinaryLife\n",
       "3        OrdinaryLife\n",
       "4        OrdinaryLife\n",
       "             ...     \n",
       "13113         Finance\n",
       "13114         Finance\n",
       "13115         Finance\n",
       "13116         Finance\n",
       "13117         Finance\n",
       "Name: Topic, Length: 13118, dtype: object"
      ]
     },
     "execution_count": 12,
     "metadata": {},
     "output_type": "execute_result"
    }
   ],
   "source": [
    "y"
   ]
  },
  {
   "cell_type": "markdown",
   "metadata": {},
   "source": [
    "## CountVectorizer - Different N-gram ranges"
   ]
  },
  {
   "cell_type": "code",
   "execution_count": 13,
   "metadata": {},
   "outputs": [
    {
     "name": "stderr",
     "output_type": "stream",
     "text": [
      "/opt/anaconda3/lib/python3.8/site-packages/sklearn/linear_model/_sag.py:329: ConvergenceWarning: The max_iter was reached which means the coef_ did not converge\n",
      "  warnings.warn(\"The max_iter was reached which means \"\n"
     ]
    }
   ],
   "source": [
    "X_train, X_test, y_train, y_test = train_test_split(X, y, test_size = 0.2, random_state = 3)\n",
    "\n",
    "vectorizer = CountVectorizer(ngram_range = (1,1))\n",
    "X_train = vectorizer.fit_transform(X_train)\n",
    "X_test = vectorizer.transform(X_test)\n",
    "\n",
    "lr_model = LogisticRegression(random_state = 3, solver='saga')\n",
    "lr_model.fit(X_train, y_train)\n",
    "y_hat_lr = lr_model.predict(X_test)\n",
    "\n",
    "accuracy_score_lr = metrics.accuracy_score(y_test, y_hat_lr)\n"
   ]
  },
  {
   "cell_type": "code",
   "execution_count": 14,
   "metadata": {},
   "outputs": [
    {
     "name": "stdout",
     "output_type": "stream",
     "text": [
      "Accuracy = 0.6783536585365854\n",
      "                   precision    recall  f1-score   support\n",
      "\n",
      " Attitude&Emotion       0.23      0.11      0.15       133\n",
      "Culture&Education       0.14      0.12      0.13         8\n",
      "          Finance       0.71      0.55      0.62       100\n",
      "           Health       0.70      0.61      0.65        51\n",
      "     OrdinaryLife       0.70      0.71      0.71       729\n",
      "         Politics       0.56      0.50      0.53        18\n",
      "     Relationship       0.68      0.78      0.73       889\n",
      "       SchoolLife       0.68      0.50      0.58        90\n",
      "          Tourism       0.71      0.65      0.68       213\n",
      "             Work       0.68      0.69      0.69       393\n",
      "\n",
      "         accuracy                           0.68      2624\n",
      "        macro avg       0.58      0.52      0.55      2624\n",
      "     weighted avg       0.67      0.68      0.67      2624\n",
      "\n"
     ]
    }
   ],
   "source": [
    "print('Accuracy = ' + str(accuracy_score_lr))\n",
    "print(metrics.classification_report(y_test, y_hat_lr))"
   ]
  },
  {
   "cell_type": "code",
   "execution_count": 15,
   "metadata": {},
   "outputs": [
    {
     "name": "stderr",
     "output_type": "stream",
     "text": [
      "/opt/anaconda3/lib/python3.8/site-packages/sklearn/linear_model/_sag.py:329: ConvergenceWarning: The max_iter was reached which means the coef_ did not converge\n",
      "  warnings.warn(\"The max_iter was reached which means \"\n"
     ]
    }
   ],
   "source": [
    "X_train, X_test, y_train, y_test = train_test_split(X, y, test_size = 0.2, random_state = 3)\n",
    "vectorizer = CountVectorizer(ngram_range = (1,2))\n",
    "X_train = vectorizer.fit_transform(X_train)\n",
    "X_test = vectorizer.transform(X_test)\n",
    "\n",
    "lr_model = LogisticRegression(random_state = 3, solver='saga')\n",
    "lr_model.fit(X_train, y_train)\n",
    "y_hat_lr = lr_model.predict(X_test)\n",
    "\n",
    "accuracy_score_lr = metrics.accuracy_score(y_test, y_hat_lr)"
   ]
  },
  {
   "cell_type": "code",
   "execution_count": 16,
   "metadata": {
    "scrolled": true
   },
   "outputs": [
    {
     "name": "stdout",
     "output_type": "stream",
     "text": [
      "Accuracy = 0.6871189024390244\n",
      "                   precision    recall  f1-score   support\n",
      "\n",
      " Attitude&Emotion       0.29      0.18      0.22       133\n",
      "Culture&Education       0.25      0.25      0.25         8\n",
      "          Finance       0.79      0.57      0.66       100\n",
      "           Health       0.73      0.59      0.65        51\n",
      "     OrdinaryLife       0.71      0.72      0.71       729\n",
      "         Politics       0.69      0.50      0.58        18\n",
      "     Relationship       0.68      0.79      0.73       889\n",
      "       SchoolLife       0.67      0.47      0.55        90\n",
      "          Tourism       0.75      0.64      0.69       213\n",
      "             Work       0.72      0.71      0.72       393\n",
      "\n",
      "         accuracy                           0.69      2624\n",
      "        macro avg       0.63      0.54      0.58      2624\n",
      "     weighted avg       0.68      0.69      0.68      2624\n",
      "\n"
     ]
    }
   ],
   "source": [
    "print('Accuracy = ' + str(accuracy_score_lr))\n",
    "print(metrics.classification_report(y_test, y_hat_lr))"
   ]
  },
  {
   "cell_type": "code",
   "execution_count": 17,
   "metadata": {},
   "outputs": [
    {
     "data": {
      "text/html": [
       "<div>\n",
       "<style scoped>\n",
       "    .dataframe tbody tr th:only-of-type {\n",
       "        vertical-align: middle;\n",
       "    }\n",
       "\n",
       "    .dataframe tbody tr th {\n",
       "        vertical-align: top;\n",
       "    }\n",
       "\n",
       "    .dataframe thead th {\n",
       "        text-align: right;\n",
       "    }\n",
       "</style>\n",
       "<table border=\"1\" class=\"dataframe\">\n",
       "  <thead>\n",
       "    <tr style=\"text-align: right;\">\n",
       "      <th></th>\n",
       "      <th>Attitude&amp;Emotion</th>\n",
       "      <th>Culture&amp;Education</th>\n",
       "      <th>Finance</th>\n",
       "      <th>Health</th>\n",
       "      <th>OrdinaryLife</th>\n",
       "      <th>Politics</th>\n",
       "      <th>Relationship</th>\n",
       "      <th>SchoolLife</th>\n",
       "      <th>Tourism</th>\n",
       "      <th>Work</th>\n",
       "    </tr>\n",
       "  </thead>\n",
       "  <tbody>\n",
       "    <tr>\n",
       "      <th>Attitude&amp;Emotion</th>\n",
       "      <td>24</td>\n",
       "      <td>1</td>\n",
       "      <td>1</td>\n",
       "      <td>2</td>\n",
       "      <td>29</td>\n",
       "      <td>0</td>\n",
       "      <td>67</td>\n",
       "      <td>2</td>\n",
       "      <td>1</td>\n",
       "      <td>6</td>\n",
       "    </tr>\n",
       "    <tr>\n",
       "      <th>Culture&amp;Education</th>\n",
       "      <td>1</td>\n",
       "      <td>2</td>\n",
       "      <td>0</td>\n",
       "      <td>0</td>\n",
       "      <td>0</td>\n",
       "      <td>0</td>\n",
       "      <td>5</td>\n",
       "      <td>0</td>\n",
       "      <td>0</td>\n",
       "      <td>0</td>\n",
       "    </tr>\n",
       "    <tr>\n",
       "      <th>Finance</th>\n",
       "      <td>1</td>\n",
       "      <td>0</td>\n",
       "      <td>57</td>\n",
       "      <td>0</td>\n",
       "      <td>13</td>\n",
       "      <td>0</td>\n",
       "      <td>6</td>\n",
       "      <td>0</td>\n",
       "      <td>1</td>\n",
       "      <td>22</td>\n",
       "    </tr>\n",
       "    <tr>\n",
       "      <th>Health</th>\n",
       "      <td>0</td>\n",
       "      <td>0</td>\n",
       "      <td>0</td>\n",
       "      <td>30</td>\n",
       "      <td>12</td>\n",
       "      <td>0</td>\n",
       "      <td>7</td>\n",
       "      <td>0</td>\n",
       "      <td>1</td>\n",
       "      <td>1</td>\n",
       "    </tr>\n",
       "    <tr>\n",
       "      <th>OrdinaryLife</th>\n",
       "      <td>12</td>\n",
       "      <td>1</td>\n",
       "      <td>5</td>\n",
       "      <td>4</td>\n",
       "      <td>524</td>\n",
       "      <td>2</td>\n",
       "      <td>135</td>\n",
       "      <td>6</td>\n",
       "      <td>24</td>\n",
       "      <td>16</td>\n",
       "    </tr>\n",
       "    <tr>\n",
       "      <th>Politics</th>\n",
       "      <td>0</td>\n",
       "      <td>0</td>\n",
       "      <td>0</td>\n",
       "      <td>0</td>\n",
       "      <td>4</td>\n",
       "      <td>9</td>\n",
       "      <td>5</td>\n",
       "      <td>0</td>\n",
       "      <td>0</td>\n",
       "      <td>0</td>\n",
       "    </tr>\n",
       "    <tr>\n",
       "      <th>Relationship</th>\n",
       "      <td>28</td>\n",
       "      <td>3</td>\n",
       "      <td>3</td>\n",
       "      <td>4</td>\n",
       "      <td>83</td>\n",
       "      <td>2</td>\n",
       "      <td>699</td>\n",
       "      <td>8</td>\n",
       "      <td>14</td>\n",
       "      <td>45</td>\n",
       "    </tr>\n",
       "    <tr>\n",
       "      <th>SchoolLife</th>\n",
       "      <td>2</td>\n",
       "      <td>0</td>\n",
       "      <td>0</td>\n",
       "      <td>0</td>\n",
       "      <td>13</td>\n",
       "      <td>0</td>\n",
       "      <td>24</td>\n",
       "      <td>42</td>\n",
       "      <td>1</td>\n",
       "      <td>8</td>\n",
       "    </tr>\n",
       "    <tr>\n",
       "      <th>Tourism</th>\n",
       "      <td>2</td>\n",
       "      <td>0</td>\n",
       "      <td>0</td>\n",
       "      <td>0</td>\n",
       "      <td>38</td>\n",
       "      <td>0</td>\n",
       "      <td>26</td>\n",
       "      <td>1</td>\n",
       "      <td>137</td>\n",
       "      <td>9</td>\n",
       "    </tr>\n",
       "    <tr>\n",
       "      <th>Work</th>\n",
       "      <td>13</td>\n",
       "      <td>1</td>\n",
       "      <td>6</td>\n",
       "      <td>1</td>\n",
       "      <td>25</td>\n",
       "      <td>0</td>\n",
       "      <td>60</td>\n",
       "      <td>4</td>\n",
       "      <td>4</td>\n",
       "      <td>279</td>\n",
       "    </tr>\n",
       "  </tbody>\n",
       "</table>\n",
       "</div>"
      ],
      "text/plain": [
       "                   Attitude&Emotion  Culture&Education  Finance  Health  \\\n",
       "Attitude&Emotion                 24                  1        1       2   \n",
       "Culture&Education                 1                  2        0       0   \n",
       "Finance                           1                  0       57       0   \n",
       "Health                            0                  0        0      30   \n",
       "OrdinaryLife                     12                  1        5       4   \n",
       "Politics                          0                  0        0       0   \n",
       "Relationship                     28                  3        3       4   \n",
       "SchoolLife                        2                  0        0       0   \n",
       "Tourism                           2                  0        0       0   \n",
       "Work                             13                  1        6       1   \n",
       "\n",
       "                   OrdinaryLife  Politics  Relationship  SchoolLife  Tourism  \\\n",
       "Attitude&Emotion             29         0            67           2        1   \n",
       "Culture&Education             0         0             5           0        0   \n",
       "Finance                      13         0             6           0        1   \n",
       "Health                       12         0             7           0        1   \n",
       "OrdinaryLife                524         2           135           6       24   \n",
       "Politics                      4         9             5           0        0   \n",
       "Relationship                 83         2           699           8       14   \n",
       "SchoolLife                   13         0            24          42        1   \n",
       "Tourism                      38         0            26           1      137   \n",
       "Work                         25         0            60           4        4   \n",
       "\n",
       "                   Work  \n",
       "Attitude&Emotion      6  \n",
       "Culture&Education     0  \n",
       "Finance              22  \n",
       "Health                1  \n",
       "OrdinaryLife         16  \n",
       "Politics              0  \n",
       "Relationship         45  \n",
       "SchoolLife            8  \n",
       "Tourism               9  \n",
       "Work                279  "
      ]
     },
     "execution_count": 17,
     "metadata": {},
     "output_type": "execute_result"
    }
   ],
   "source": [
    "cm = confusion_matrix(y_test, y_hat_lr)\n",
    "\n",
    "cm_df = pd.DataFrame(confusion_matrix(y_test, y_hat_lr), \n",
    "                                columns = ['Attitude&Emotion','Culture&Education','Finance', 'Health', 'OrdinaryLife', 'Politics', 'Relationship', 'SchoolLife', 'Tourism', 'Work'],\n",
    "                    index =['Attitude&Emotion','Culture&Education','Finance', 'Health', 'OrdinaryLife', 'Politics', 'Relationship', 'SchoolLife', 'Tourism', 'Work'] )\n",
    "\n",
    "cm_df"
   ]
  },
  {
   "cell_type": "code",
   "execution_count": 18,
   "metadata": {},
   "outputs": [
    {
     "name": "stderr",
     "output_type": "stream",
     "text": [
      "/opt/anaconda3/lib/python3.8/site-packages/sklearn/linear_model/_sag.py:329: ConvergenceWarning: The max_iter was reached which means the coef_ did not converge\n",
      "  warnings.warn(\"The max_iter was reached which means \"\n"
     ]
    }
   ],
   "source": [
    "X_train, X_test, y_train, y_test = train_test_split(X, y, test_size = 0.2, random_state = 3)\n",
    "vectorizer = CountVectorizer(ngram_range = (1,3))\n",
    "X_train = vectorizer.fit_transform(X_train)\n",
    "X_test = vectorizer.transform(X_test)\n",
    "\n",
    "lr_model = LogisticRegression(random_state = 3, solver='saga')\n",
    "lr_model.fit(X_train, y_train)\n",
    "y_hat_lr = lr_model.predict(X_test)\n",
    "\n",
    "accuracy_score_lr = metrics.accuracy_score(y_test, y_hat_lr)"
   ]
  },
  {
   "cell_type": "code",
   "execution_count": 19,
   "metadata": {},
   "outputs": [
    {
     "name": "stdout",
     "output_type": "stream",
     "text": [
      "Accuracy = 0.6852134146341463\n",
      "                   precision    recall  f1-score   support\n",
      "\n",
      " Attitude&Emotion       0.27      0.15      0.19       133\n",
      "Culture&Education       0.25      0.25      0.25         8\n",
      "          Finance       0.82      0.53      0.64       100\n",
      "           Health       0.79      0.59      0.67        51\n",
      "     OrdinaryLife       0.70      0.72      0.71       729\n",
      "         Politics       0.70      0.39      0.50        18\n",
      "     Relationship       0.67      0.79      0.73       889\n",
      "       SchoolLife       0.69      0.39      0.50        90\n",
      "          Tourism       0.75      0.64      0.69       213\n",
      "             Work       0.72      0.72      0.72       393\n",
      "\n",
      "         accuracy                           0.69      2624\n",
      "        macro avg       0.64      0.52      0.56      2624\n",
      "     weighted avg       0.68      0.69      0.68      2624\n",
      "\n"
     ]
    }
   ],
   "source": [
    "print('Accuracy = ' + str(accuracy_score_lr))\n",
    "print(metrics.classification_report(y_test, y_hat_lr))"
   ]
  },
  {
   "cell_type": "markdown",
   "metadata": {},
   "source": [
    "### Length of Dialogue"
   ]
  },
  {
   "cell_type": "code",
   "execution_count": 20,
   "metadata": {},
   "outputs": [],
   "source": [
    "X_train, X_test, y_train, y_test = train_test_split(X, y, test_size = 0.2, random_state = 3)\n",
    "\n",
    "\n",
    "transformer = ColumnTransformer([('Dialogue', CountVectorizer(), 'Dialogue')], \n",
    "                                    remainder = 'passthrough')\n",
    "transformed_data = transformer.fit_transform(df[['Dialogue', 'Length']])"
   ]
  },
  {
   "cell_type": "code",
   "execution_count": 21,
   "metadata": {},
   "outputs": [
    {
     "data": {
      "text/plain": [
       "<13118x18654 sparse matrix of type '<class 'numpy.int64'>'\n",
       "\twith 745784 stored elements in Compressed Sparse Row format>"
      ]
     },
     "execution_count": 21,
     "metadata": {},
     "output_type": "execute_result"
    }
   ],
   "source": [
    "transformed_data"
   ]
  },
  {
   "cell_type": "code",
   "execution_count": 22,
   "metadata": {},
   "outputs": [
    {
     "name": "stderr",
     "output_type": "stream",
     "text": [
      "/opt/anaconda3/lib/python3.8/site-packages/sklearn/linear_model/_sag.py:329: ConvergenceWarning: The max_iter was reached which means the coef_ did not converge\n",
      "  warnings.warn(\"The max_iter was reached which means \"\n",
      "/opt/anaconda3/lib/python3.8/site-packages/sklearn/linear_model/_sag.py:329: ConvergenceWarning: The max_iter was reached which means the coef_ did not converge\n",
      "  warnings.warn(\"The max_iter was reached which means \"\n",
      "/opt/anaconda3/lib/python3.8/site-packages/sklearn/linear_model/_sag.py:329: ConvergenceWarning: The max_iter was reached which means the coef_ did not converge\n",
      "  warnings.warn(\"The max_iter was reached which means \"\n",
      "/opt/anaconda3/lib/python3.8/site-packages/sklearn/linear_model/_sag.py:329: ConvergenceWarning: The max_iter was reached which means the coef_ did not converge\n",
      "  warnings.warn(\"The max_iter was reached which means \"\n",
      "/opt/anaconda3/lib/python3.8/site-packages/sklearn/linear_model/_sag.py:329: ConvergenceWarning: The max_iter was reached which means the coef_ did not converge\n",
      "  warnings.warn(\"The max_iter was reached which means \"\n",
      "/opt/anaconda3/lib/python3.8/site-packages/sklearn/linear_model/_sag.py:329: ConvergenceWarning: The max_iter was reached which means the coef_ did not converge\n",
      "  warnings.warn(\"The max_iter was reached which means \"\n",
      "/opt/anaconda3/lib/python3.8/site-packages/sklearn/linear_model/_sag.py:329: ConvergenceWarning: The max_iter was reached which means the coef_ did not converge\n",
      "  warnings.warn(\"The max_iter was reached which means \"\n",
      "/opt/anaconda3/lib/python3.8/site-packages/sklearn/linear_model/_sag.py:329: ConvergenceWarning: The max_iter was reached which means the coef_ did not converge\n",
      "  warnings.warn(\"The max_iter was reached which means \"\n",
      "/opt/anaconda3/lib/python3.8/site-packages/sklearn/linear_model/_sag.py:329: ConvergenceWarning: The max_iter was reached which means the coef_ did not converge\n",
      "  warnings.warn(\"The max_iter was reached which means \"\n",
      "/opt/anaconda3/lib/python3.8/site-packages/sklearn/linear_model/_sag.py:329: ConvergenceWarning: The max_iter was reached which means the coef_ did not converge\n",
      "  warnings.warn(\"The max_iter was reached which means \"\n"
     ]
    }
   ],
   "source": [
    "\n",
    "lr_length_model = LogisticRegression(random_state = 3, solver = 'saga')\n",
    "lr_length_scores = cross_val_score(lr_length_model, transformed_data, y, cv = 10)"
   ]
  },
  {
   "cell_type": "code",
   "execution_count": 23,
   "metadata": {},
   "outputs": [
    {
     "data": {
      "text/plain": [
       "0.6593978484121225"
      ]
     },
     "execution_count": 23,
     "metadata": {},
     "output_type": "execute_result"
    }
   ],
   "source": [
    "lr_length_scores.mean()"
   ]
  },
  {
   "cell_type": "code",
   "execution_count": 24,
   "metadata": {},
   "outputs": [],
   "source": [
    "X_train, X_test, y_train, y_test = train_test_split(X, y, test_size = 0.2, random_state = 3)\n",
    "\n",
    "\n",
    "transformer = ColumnTransformer([('Dialogue', TfidfVectorizer(), 'Dialogue')], \n",
    "                                    remainder = 'passthrough')\n",
    "transformed_data = transformer.fit_transform(df[['Dialogue', 'Length']])"
   ]
  },
  {
   "cell_type": "code",
   "execution_count": 25,
   "metadata": {},
   "outputs": [
    {
     "name": "stderr",
     "output_type": "stream",
     "text": [
      "/opt/anaconda3/lib/python3.8/site-packages/sklearn/linear_model/_sag.py:329: ConvergenceWarning: The max_iter was reached which means the coef_ did not converge\n",
      "  warnings.warn(\"The max_iter was reached which means \"\n",
      "/opt/anaconda3/lib/python3.8/site-packages/sklearn/linear_model/_sag.py:329: ConvergenceWarning: The max_iter was reached which means the coef_ did not converge\n",
      "  warnings.warn(\"The max_iter was reached which means \"\n",
      "/opt/anaconda3/lib/python3.8/site-packages/sklearn/linear_model/_sag.py:329: ConvergenceWarning: The max_iter was reached which means the coef_ did not converge\n",
      "  warnings.warn(\"The max_iter was reached which means \"\n",
      "/opt/anaconda3/lib/python3.8/site-packages/sklearn/linear_model/_sag.py:329: ConvergenceWarning: The max_iter was reached which means the coef_ did not converge\n",
      "  warnings.warn(\"The max_iter was reached which means \"\n",
      "/opt/anaconda3/lib/python3.8/site-packages/sklearn/linear_model/_sag.py:329: ConvergenceWarning: The max_iter was reached which means the coef_ did not converge\n",
      "  warnings.warn(\"The max_iter was reached which means \"\n",
      "/opt/anaconda3/lib/python3.8/site-packages/sklearn/linear_model/_sag.py:329: ConvergenceWarning: The max_iter was reached which means the coef_ did not converge\n",
      "  warnings.warn(\"The max_iter was reached which means \"\n",
      "/opt/anaconda3/lib/python3.8/site-packages/sklearn/linear_model/_sag.py:329: ConvergenceWarning: The max_iter was reached which means the coef_ did not converge\n",
      "  warnings.warn(\"The max_iter was reached which means \"\n",
      "/opt/anaconda3/lib/python3.8/site-packages/sklearn/linear_model/_sag.py:329: ConvergenceWarning: The max_iter was reached which means the coef_ did not converge\n",
      "  warnings.warn(\"The max_iter was reached which means \"\n",
      "/opt/anaconda3/lib/python3.8/site-packages/sklearn/linear_model/_sag.py:329: ConvergenceWarning: The max_iter was reached which means the coef_ did not converge\n",
      "  warnings.warn(\"The max_iter was reached which means \"\n",
      "/opt/anaconda3/lib/python3.8/site-packages/sklearn/linear_model/_sag.py:329: ConvergenceWarning: The max_iter was reached which means the coef_ did not converge\n",
      "  warnings.warn(\"The max_iter was reached which means \"\n"
     ]
    }
   ],
   "source": [
    "lr_length_model = LogisticRegression(random_state = 3, solver = 'saga')\n",
    "lr_length_scores = cross_val_score(lr_length_model, transformed_data, y, cv = 10)"
   ]
  },
  {
   "cell_type": "code",
   "execution_count": 26,
   "metadata": {},
   "outputs": [
    {
     "data": {
      "text/plain": [
       "0.622808064036018"
      ]
     },
     "execution_count": 26,
     "metadata": {},
     "output_type": "execute_result"
    }
   ],
   "source": [
    "lr_length_scores.mean()"
   ]
  },
  {
   "cell_type": "markdown",
   "metadata": {},
   "source": [
    "## TfidfVectorizer"
   ]
  },
  {
   "cell_type": "code",
   "execution_count": 27,
   "metadata": {},
   "outputs": [],
   "source": [
    "X_train, X_test, y_train, y_test = train_test_split(X, y, test_size = 0.2, random_state = 3)\n",
    "\n",
    "vectorizer = TfidfVectorizer(stop_words = 'english', ngram_range = (1,1))\n",
    "X_train = vectorizer.fit_transform(X_train)\n",
    "X_test = vectorizer.transform(X_test)\n",
    "\n",
    "lr_model = LogisticRegression(random_state = 3, solver='saga')\n",
    "lr_model.fit(X_train, y_train)\n",
    "y_hat_lr = lr_model.predict(X_test)\n",
    "\n",
    "accuracy_score_lr = metrics.accuracy_score(y_test, y_hat_lr)"
   ]
  },
  {
   "cell_type": "code",
   "execution_count": 28,
   "metadata": {},
   "outputs": [
    {
     "name": "stdout",
     "output_type": "stream",
     "text": [
      "Accuracy = 0.6966463414634146\n",
      "                   precision    recall  f1-score   support\n",
      "\n",
      " Attitude&Emotion       0.22      0.02      0.03       133\n",
      "Culture&Education       0.00      0.00      0.00         8\n",
      "          Finance       0.91      0.52      0.66       100\n",
      "           Health       0.74      0.49      0.59        51\n",
      "     OrdinaryLife       0.71      0.75      0.73       729\n",
      "         Politics       1.00      0.33      0.50        18\n",
      "     Relationship       0.65      0.85      0.73       889\n",
      "       SchoolLife       0.80      0.39      0.52        90\n",
      "          Tourism       0.84      0.60      0.70       213\n",
      "             Work       0.73      0.71      0.72       393\n",
      "\n",
      "         accuracy                           0.70      2624\n",
      "        macro avg       0.66      0.47      0.52      2624\n",
      "     weighted avg       0.69      0.70      0.68      2624\n",
      "\n"
     ]
    },
    {
     "name": "stderr",
     "output_type": "stream",
     "text": [
      "/opt/anaconda3/lib/python3.8/site-packages/sklearn/metrics/_classification.py:1221: UndefinedMetricWarning: Precision and F-score are ill-defined and being set to 0.0 in labels with no predicted samples. Use `zero_division` parameter to control this behavior.\n",
      "  _warn_prf(average, modifier, msg_start, len(result))\n"
     ]
    }
   ],
   "source": [
    "print('Accuracy = ' + str(accuracy_score_lr))\n",
    "print(metrics.classification_report(y_test, y_hat_lr))"
   ]
  },
  {
   "cell_type": "code",
   "execution_count": 29,
   "metadata": {},
   "outputs": [
    {
     "data": {
      "text/html": [
       "<div>\n",
       "<style scoped>\n",
       "    .dataframe tbody tr th:only-of-type {\n",
       "        vertical-align: middle;\n",
       "    }\n",
       "\n",
       "    .dataframe tbody tr th {\n",
       "        vertical-align: top;\n",
       "    }\n",
       "\n",
       "    .dataframe thead th {\n",
       "        text-align: right;\n",
       "    }\n",
       "</style>\n",
       "<table border=\"1\" class=\"dataframe\">\n",
       "  <thead>\n",
       "    <tr style=\"text-align: right;\">\n",
       "      <th></th>\n",
       "      <th>Attitude&amp;Emotion</th>\n",
       "      <th>Culture&amp;Education</th>\n",
       "      <th>Finance</th>\n",
       "      <th>Health</th>\n",
       "      <th>OrdinaryLife</th>\n",
       "      <th>Politics</th>\n",
       "      <th>Relationship</th>\n",
       "      <th>SchoolLife</th>\n",
       "      <th>Tourism</th>\n",
       "      <th>Work</th>\n",
       "    </tr>\n",
       "  </thead>\n",
       "  <tbody>\n",
       "    <tr>\n",
       "      <th>Attitude&amp;Emotion</th>\n",
       "      <td>2</td>\n",
       "      <td>0</td>\n",
       "      <td>0</td>\n",
       "      <td>0</td>\n",
       "      <td>27</td>\n",
       "      <td>0</td>\n",
       "      <td>98</td>\n",
       "      <td>2</td>\n",
       "      <td>0</td>\n",
       "      <td>4</td>\n",
       "    </tr>\n",
       "    <tr>\n",
       "      <th>Culture&amp;Education</th>\n",
       "      <td>0</td>\n",
       "      <td>0</td>\n",
       "      <td>0</td>\n",
       "      <td>0</td>\n",
       "      <td>0</td>\n",
       "      <td>0</td>\n",
       "      <td>7</td>\n",
       "      <td>0</td>\n",
       "      <td>0</td>\n",
       "      <td>1</td>\n",
       "    </tr>\n",
       "    <tr>\n",
       "      <th>Finance</th>\n",
       "      <td>0</td>\n",
       "      <td>0</td>\n",
       "      <td>52</td>\n",
       "      <td>0</td>\n",
       "      <td>17</td>\n",
       "      <td>0</td>\n",
       "      <td>5</td>\n",
       "      <td>0</td>\n",
       "      <td>1</td>\n",
       "      <td>25</td>\n",
       "    </tr>\n",
       "    <tr>\n",
       "      <th>Health</th>\n",
       "      <td>0</td>\n",
       "      <td>0</td>\n",
       "      <td>0</td>\n",
       "      <td>25</td>\n",
       "      <td>9</td>\n",
       "      <td>0</td>\n",
       "      <td>15</td>\n",
       "      <td>0</td>\n",
       "      <td>0</td>\n",
       "      <td>2</td>\n",
       "    </tr>\n",
       "    <tr>\n",
       "      <th>OrdinaryLife</th>\n",
       "      <td>3</td>\n",
       "      <td>0</td>\n",
       "      <td>2</td>\n",
       "      <td>4</td>\n",
       "      <td>547</td>\n",
       "      <td>0</td>\n",
       "      <td>142</td>\n",
       "      <td>2</td>\n",
       "      <td>11</td>\n",
       "      <td>18</td>\n",
       "    </tr>\n",
       "    <tr>\n",
       "      <th>Politics</th>\n",
       "      <td>0</td>\n",
       "      <td>0</td>\n",
       "      <td>0</td>\n",
       "      <td>0</td>\n",
       "      <td>4</td>\n",
       "      <td>6</td>\n",
       "      <td>7</td>\n",
       "      <td>0</td>\n",
       "      <td>1</td>\n",
       "      <td>0</td>\n",
       "    </tr>\n",
       "    <tr>\n",
       "      <th>Relationship</th>\n",
       "      <td>3</td>\n",
       "      <td>0</td>\n",
       "      <td>0</td>\n",
       "      <td>3</td>\n",
       "      <td>86</td>\n",
       "      <td>0</td>\n",
       "      <td>754</td>\n",
       "      <td>2</td>\n",
       "      <td>5</td>\n",
       "      <td>36</td>\n",
       "    </tr>\n",
       "    <tr>\n",
       "      <th>SchoolLife</th>\n",
       "      <td>0</td>\n",
       "      <td>0</td>\n",
       "      <td>0</td>\n",
       "      <td>0</td>\n",
       "      <td>16</td>\n",
       "      <td>0</td>\n",
       "      <td>28</td>\n",
       "      <td>35</td>\n",
       "      <td>2</td>\n",
       "      <td>9</td>\n",
       "    </tr>\n",
       "    <tr>\n",
       "      <th>Tourism</th>\n",
       "      <td>0</td>\n",
       "      <td>0</td>\n",
       "      <td>0</td>\n",
       "      <td>0</td>\n",
       "      <td>41</td>\n",
       "      <td>0</td>\n",
       "      <td>36</td>\n",
       "      <td>0</td>\n",
       "      <td>128</td>\n",
       "      <td>8</td>\n",
       "    </tr>\n",
       "    <tr>\n",
       "      <th>Work</th>\n",
       "      <td>1</td>\n",
       "      <td>0</td>\n",
       "      <td>3</td>\n",
       "      <td>2</td>\n",
       "      <td>25</td>\n",
       "      <td>0</td>\n",
       "      <td>75</td>\n",
       "      <td>3</td>\n",
       "      <td>5</td>\n",
       "      <td>279</td>\n",
       "    </tr>\n",
       "  </tbody>\n",
       "</table>\n",
       "</div>"
      ],
      "text/plain": [
       "                   Attitude&Emotion  Culture&Education  Finance  Health  \\\n",
       "Attitude&Emotion                  2                  0        0       0   \n",
       "Culture&Education                 0                  0        0       0   \n",
       "Finance                           0                  0       52       0   \n",
       "Health                            0                  0        0      25   \n",
       "OrdinaryLife                      3                  0        2       4   \n",
       "Politics                          0                  0        0       0   \n",
       "Relationship                      3                  0        0       3   \n",
       "SchoolLife                        0                  0        0       0   \n",
       "Tourism                           0                  0        0       0   \n",
       "Work                              1                  0        3       2   \n",
       "\n",
       "                   OrdinaryLife  Politics  Relationship  SchoolLife  Tourism  \\\n",
       "Attitude&Emotion             27         0            98           2        0   \n",
       "Culture&Education             0         0             7           0        0   \n",
       "Finance                      17         0             5           0        1   \n",
       "Health                        9         0            15           0        0   \n",
       "OrdinaryLife                547         0           142           2       11   \n",
       "Politics                      4         6             7           0        1   \n",
       "Relationship                 86         0           754           2        5   \n",
       "SchoolLife                   16         0            28          35        2   \n",
       "Tourism                      41         0            36           0      128   \n",
       "Work                         25         0            75           3        5   \n",
       "\n",
       "                   Work  \n",
       "Attitude&Emotion      4  \n",
       "Culture&Education     1  \n",
       "Finance              25  \n",
       "Health                2  \n",
       "OrdinaryLife         18  \n",
       "Politics              0  \n",
       "Relationship         36  \n",
       "SchoolLife            9  \n",
       "Tourism               8  \n",
       "Work                279  "
      ]
     },
     "execution_count": 29,
     "metadata": {},
     "output_type": "execute_result"
    }
   ],
   "source": [
    "cm2 = confusion_matrix(y_test, y_hat_lr)\n",
    "\n",
    "cm_df2 = pd.DataFrame(confusion_matrix(y_test, y_hat_lr), \n",
    "                                columns = ['Attitude&Emotion','Culture&Education','Finance', 'Health', 'OrdinaryLife', 'Politics', 'Relationship', 'SchoolLife', 'Tourism', 'Work'],\n",
    "                    index =['Attitude&Emotion','Culture&Education','Finance', 'Health', 'OrdinaryLife', 'Politics', 'Relationship', 'SchoolLife', 'Tourism', 'Work'] )\n",
    "\n",
    "cm_df2"
   ]
  },
  {
   "cell_type": "code",
   "execution_count": 30,
   "metadata": {},
   "outputs": [],
   "source": [
    "lr_xval_scores = cross_val_score(lr_model, X_train, y_train, cv=10)"
   ]
  },
  {
   "cell_type": "code",
   "execution_count": 31,
   "metadata": {},
   "outputs": [
    {
     "data": {
      "text/plain": [
       "0.6804857233646556"
      ]
     },
     "execution_count": 31,
     "metadata": {},
     "output_type": "execute_result"
    }
   ],
   "source": [
    "lr_xval_scores.mean()"
   ]
  },
  {
   "cell_type": "code",
   "execution_count": 32,
   "metadata": {},
   "outputs": [],
   "source": [
    "X_train, X_test, y_train, y_test = train_test_split(X, y, test_size = 0.2, random_state = 3)\n",
    "\n",
    "vectorizer = TfidfVectorizer(ngram_range = (1,3))\n",
    "X_train = vectorizer.fit_transform(X_train)\n",
    "X_test = vectorizer.transform(X_test)\n",
    "\n",
    "lr_model = LogisticRegression(random_state = 3, solver='saga')\n",
    "lr_model.fit(X_train, y_train)\n",
    "y_hat_lr = lr_model.predict(X_test)\n",
    "\n",
    "accuracy_score_lr = metrics.accuracy_score(y_test, y_hat_lr)"
   ]
  },
  {
   "cell_type": "code",
   "execution_count": 33,
   "metadata": {},
   "outputs": [
    {
     "name": "stdout",
     "output_type": "stream",
     "text": [
      "0.6814024390243902\n",
      "                   precision    recall  f1-score   support\n",
      "\n",
      " Attitude&Emotion       1.00      0.02      0.03       133\n",
      "Culture&Education       0.00      0.00      0.00         8\n",
      "          Finance       0.96      0.47      0.63       100\n",
      "           Health       1.00      0.20      0.33        51\n",
      "     OrdinaryLife       0.67      0.76      0.71       729\n",
      "         Politics       0.00      0.00      0.00        18\n",
      "     Relationship       0.64      0.88      0.74       889\n",
      "       SchoolLife       1.00      0.12      0.22        90\n",
      "          Tourism       0.88      0.53      0.66       213\n",
      "             Work       0.73      0.69      0.71       393\n",
      "\n",
      "         accuracy                           0.68      2624\n",
      "        macro avg       0.69      0.37      0.40      2624\n",
      "     weighted avg       0.72      0.68      0.65      2624\n",
      "\n"
     ]
    },
    {
     "name": "stderr",
     "output_type": "stream",
     "text": [
      "/opt/anaconda3/lib/python3.8/site-packages/sklearn/metrics/_classification.py:1221: UndefinedMetricWarning: Precision and F-score are ill-defined and being set to 0.0 in labels with no predicted samples. Use `zero_division` parameter to control this behavior.\n",
      "  _warn_prf(average, modifier, msg_start, len(result))\n"
     ]
    }
   ],
   "source": [
    "print(accuracy_score_lr)\n",
    "print(metrics.classification_report(y_test, y_hat_lr))"
   ]
  },
  {
   "cell_type": "markdown",
   "metadata": {},
   "source": [
    "## Naive Bayes"
   ]
  },
  {
   "cell_type": "code",
   "execution_count": 36,
   "metadata": {},
   "outputs": [
    {
     "name": "stdout",
     "output_type": "stream",
     "text": [
      "Populating the interactive namespace from numpy and matplotlib\n"
     ]
    },
    {
     "name": "stderr",
     "output_type": "stream",
     "text": [
      "/opt/anaconda3/lib/python3.8/site-packages/IPython/core/magics/pylab.py:159: UserWarning: pylab import has clobbered these variables: ['cm']\n",
      "`%matplotlib` prevents importing * from pylab and numpy\n",
      "  warn(\"pylab import has clobbered these variables: %s\"  % clobbered +\n"
     ]
    }
   ],
   "source": [
    "import pandas as pd\n",
    "from sklearn.linear_model import LogisticRegression\n",
    "from sklearn.naive_bayes import MultinomialNB, CategoricalNB\n",
    "from sklearn.model_selection import train_test_split\n",
    "from sklearn.model_selection import cross_val_score\n",
    "from sklearn.feature_extraction.text import CountVectorizer\n",
    "from sklearn import metrics\n",
    "%pylab inline"
   ]
  },
  {
   "cell_type": "code",
   "execution_count": 38,
   "metadata": {},
   "outputs": [
    {
     "data": {
      "text/html": [
       "<div>\n",
       "<style scoped>\n",
       "    .dataframe tbody tr th:only-of-type {\n",
       "        vertical-align: middle;\n",
       "    }\n",
       "\n",
       "    .dataframe tbody tr th {\n",
       "        vertical-align: top;\n",
       "    }\n",
       "\n",
       "    .dataframe thead th {\n",
       "        text-align: right;\n",
       "    }\n",
       "</style>\n",
       "<table border=\"1\" class=\"dataframe\">\n",
       "  <thead>\n",
       "    <tr style=\"text-align: right;\">\n",
       "      <th></th>\n",
       "      <th>Dialogue</th>\n",
       "      <th>Topic</th>\n",
       "    </tr>\n",
       "  </thead>\n",
       "  <tbody>\n",
       "    <tr>\n",
       "      <th>0</th>\n",
       "      <td>The kitchen stinks . __eou__ I'll throw out th...</td>\n",
       "      <td>1</td>\n",
       "    </tr>\n",
       "    <tr>\n",
       "      <th>1</th>\n",
       "      <td>So Dick , how about getting some coffee for to...</td>\n",
       "      <td>1</td>\n",
       "    </tr>\n",
       "    <tr>\n",
       "      <th>2</th>\n",
       "      <td>Are things still going badly with your housegu...</td>\n",
       "      <td>1</td>\n",
       "    </tr>\n",
       "    <tr>\n",
       "      <th>3</th>\n",
       "      <td>Would you mind waiting a while ? __eou__ Well ...</td>\n",
       "      <td>1</td>\n",
       "    </tr>\n",
       "    <tr>\n",
       "      <th>4</th>\n",
       "      <td>Are you going to the annual party ? I can give...</td>\n",
       "      <td>1</td>\n",
       "    </tr>\n",
       "    <tr>\n",
       "      <th>...</th>\n",
       "      <td>...</td>\n",
       "      <td>...</td>\n",
       "    </tr>\n",
       "    <tr>\n",
       "      <th>13113</th>\n",
       "      <td>You have done an excellent job this year and w...</td>\n",
       "      <td>10</td>\n",
       "    </tr>\n",
       "    <tr>\n",
       "      <th>13114</th>\n",
       "      <td>Lindsay Tipping gave me your name as a referen...</td>\n",
       "      <td>10</td>\n",
       "    </tr>\n",
       "    <tr>\n",
       "      <th>13115</th>\n",
       "      <td>The consignments of chemical instruments have ...</td>\n",
       "      <td>10</td>\n",
       "    </tr>\n",
       "    <tr>\n",
       "      <th>13116</th>\n",
       "      <td>good morning . How can I help you ? __eou__ I'...</td>\n",
       "      <td>10</td>\n",
       "    </tr>\n",
       "    <tr>\n",
       "      <th>13117</th>\n",
       "      <td>May I ask you a few questions about insurance ...</td>\n",
       "      <td>10</td>\n",
       "    </tr>\n",
       "  </tbody>\n",
       "</table>\n",
       "<p>13118 rows × 2 columns</p>\n",
       "</div>"
      ],
      "text/plain": [
       "                                                Dialogue  Topic\n",
       "0      The kitchen stinks . __eou__ I'll throw out th...      1\n",
       "1      So Dick , how about getting some coffee for to...      1\n",
       "2      Are things still going badly with your housegu...      1\n",
       "3      Would you mind waiting a while ? __eou__ Well ...      1\n",
       "4      Are you going to the annual party ? I can give...      1\n",
       "...                                                  ...    ...\n",
       "13113  You have done an excellent job this year and w...     10\n",
       "13114  Lindsay Tipping gave me your name as a referen...     10\n",
       "13115  The consignments of chemical instruments have ...     10\n",
       "13116  good morning . How can I help you ? __eou__ I'...     10\n",
       "13117  May I ask you a few questions about insurance ...     10\n",
       "\n",
       "[13118 rows x 2 columns]"
      ]
     },
     "execution_count": 38,
     "metadata": {},
     "output_type": "execute_result"
    }
   ],
   "source": [
    "df = pd.read_csv('dialogues_text.csv', encoding = 'utf-8')\n",
    "df"
   ]
  },
  {
   "cell_type": "code",
   "execution_count": 39,
   "metadata": {},
   "outputs": [
    {
     "data": {
      "text/html": [
       "<div>\n",
       "<style scoped>\n",
       "    .dataframe tbody tr th:only-of-type {\n",
       "        vertical-align: middle;\n",
       "    }\n",
       "\n",
       "    .dataframe tbody tr th {\n",
       "        vertical-align: top;\n",
       "    }\n",
       "\n",
       "    .dataframe thead th {\n",
       "        text-align: right;\n",
       "    }\n",
       "</style>\n",
       "<table border=\"1\" class=\"dataframe\">\n",
       "  <thead>\n",
       "    <tr style=\"text-align: right;\">\n",
       "      <th></th>\n",
       "      <th>Dialogue</th>\n",
       "      <th>Topic</th>\n",
       "    </tr>\n",
       "  </thead>\n",
       "  <tbody>\n",
       "    <tr>\n",
       "      <th>0</th>\n",
       "      <td>The kitchen stinks .  I'll throw out the garba...</td>\n",
       "      <td>1</td>\n",
       "    </tr>\n",
       "    <tr>\n",
       "      <th>1</th>\n",
       "      <td>So Dick , how about getting some coffee for to...</td>\n",
       "      <td>1</td>\n",
       "    </tr>\n",
       "    <tr>\n",
       "      <th>2</th>\n",
       "      <td>Are things still going badly with your housegu...</td>\n",
       "      <td>1</td>\n",
       "    </tr>\n",
       "    <tr>\n",
       "      <th>3</th>\n",
       "      <td>Would you mind waiting a while ?  Well , how l...</td>\n",
       "      <td>1</td>\n",
       "    </tr>\n",
       "    <tr>\n",
       "      <th>4</th>\n",
       "      <td>Are you going to the annual party ? I can give...</td>\n",
       "      <td>1</td>\n",
       "    </tr>\n",
       "    <tr>\n",
       "      <th>...</th>\n",
       "      <td>...</td>\n",
       "      <td>...</td>\n",
       "    </tr>\n",
       "    <tr>\n",
       "      <th>13113</th>\n",
       "      <td>You have done an excellent job this year and w...</td>\n",
       "      <td>10</td>\n",
       "    </tr>\n",
       "    <tr>\n",
       "      <th>13114</th>\n",
       "      <td>Lindsay Tipping gave me your name as a referen...</td>\n",
       "      <td>10</td>\n",
       "    </tr>\n",
       "    <tr>\n",
       "      <th>13115</th>\n",
       "      <td>The consignments of chemical instruments have ...</td>\n",
       "      <td>10</td>\n",
       "    </tr>\n",
       "    <tr>\n",
       "      <th>13116</th>\n",
       "      <td>good morning . How can I help you ?  I'd like ...</td>\n",
       "      <td>10</td>\n",
       "    </tr>\n",
       "    <tr>\n",
       "      <th>13117</th>\n",
       "      <td>May I ask you a few questions about insurance ...</td>\n",
       "      <td>10</td>\n",
       "    </tr>\n",
       "  </tbody>\n",
       "</table>\n",
       "<p>13118 rows × 2 columns</p>\n",
       "</div>"
      ],
      "text/plain": [
       "                                                Dialogue  Topic\n",
       "0      The kitchen stinks .  I'll throw out the garba...      1\n",
       "1      So Dick , how about getting some coffee for to...      1\n",
       "2      Are things still going badly with your housegu...      1\n",
       "3      Would you mind waiting a while ?  Well , how l...      1\n",
       "4      Are you going to the annual party ? I can give...      1\n",
       "...                                                  ...    ...\n",
       "13113  You have done an excellent job this year and w...     10\n",
       "13114  Lindsay Tipping gave me your name as a referen...     10\n",
       "13115  The consignments of chemical instruments have ...     10\n",
       "13116  good morning . How can I help you ?  I'd like ...     10\n",
       "13117  May I ask you a few questions about insurance ...     10\n",
       "\n",
       "[13118 rows x 2 columns]"
      ]
     },
     "execution_count": 39,
     "metadata": {},
     "output_type": "execute_result"
    }
   ],
   "source": [
    "def remove_eou(x):\n",
    "    x = x.replace('__eou__', '')\n",
    "    return x   \n",
    "df['Dialogue'] = df['Dialogue'].apply(remove_eou)\n",
    "df"
   ]
  },
  {
   "cell_type": "code",
   "execution_count": 40,
   "metadata": {},
   "outputs": [],
   "source": [
    "df['Topic'].replace({1:'OrdinaryLife', 2:'SchoolLife', 3:'Culture&Education', 4:'Attitude&Emotion', 5:'Relationship', \n",
    "                     6:'Tourism', 7:'Health', 8:'Work', 9:'Politics', 10:'Finance'}, inplace=True)\n"
   ]
  },
  {
   "cell_type": "code",
   "execution_count": 41,
   "metadata": {},
   "outputs": [
    {
     "name": "stdout",
     "output_type": "stream",
     "text": [
      "Topic\n",
      "Attitude&Emotion      667\n",
      "Culture&Education      55\n",
      "Finance               485\n",
      "Health                267\n",
      "OrdinaryLife         3646\n",
      "Politics              131\n",
      "Relationship         4391\n",
      "SchoolLife            487\n",
      "Tourism              1065\n",
      "Work                 1924\n",
      "Name: Dialogue, dtype: int64\n"
     ]
    },
    {
     "data": {
      "text/plain": [
       "<AxesSubplot:xlabel='Topic'>"
      ]
     },
     "execution_count": 41,
     "metadata": {},
     "output_type": "execute_result"
    },
    {
     "data": {
      "image/png": "[encoded data removed]",
      "text/plain": [
       "<Figure size 432x288 with 1 Axes>"
      ]
     },
     "metadata": {
      "needs_background": "light"
     },
     "output_type": "display_data"
    }
   ],
   "source": [
    "print(df.groupby('Topic')['Dialogue'].agg('count'))\n",
    "df.groupby('Topic')['Dialogue'].agg('count').plot(kind='bar')"
   ]
  },
  {
   "cell_type": "code",
   "execution_count": 42,
   "metadata": {},
   "outputs": [
    {
     "data": {
      "text/plain": [
       "0        OrdinaryLife\n",
       "1        OrdinaryLife\n",
       "2        OrdinaryLife\n",
       "3        OrdinaryLife\n",
       "4        OrdinaryLife\n",
       "             ...     \n",
       "13113         Finance\n",
       "13114         Finance\n",
       "13115         Finance\n",
       "13116         Finance\n",
       "13117         Finance\n",
       "Name: Topic, Length: 13118, dtype: object"
      ]
     },
     "execution_count": 42,
     "metadata": {},
     "output_type": "execute_result"
    }
   ],
   "source": [
    "X = df['Dialogue'].values\n",
    "y = df['Topic']\n",
    "y"
   ]
  },
  {
   "cell_type": "code",
   "execution_count": 43,
   "metadata": {},
   "outputs": [],
   "source": [
    "X_train, X_test, y_train, y_test = train_test_split(X, y, test_size = 0.2, random_state = 3)\n",
    "\n",
    "vectorizer = CountVectorizer(stop_words = \"english\", ngram_range = (1,2))\n",
    "X_train = vectorizer.fit_transform(X_train)\n",
    "X_test = vectorizer.transform(X_test)\n",
    "X = vectorizer.fit_transform(X)"
   ]
  },
  {
   "cell_type": "code",
   "execution_count": 44,
   "metadata": {},
   "outputs": [
    {
     "name": "stdout",
     "output_type": "stream",
     "text": [
      "nb_model accuracy is :  0.666920731707317\n",
      "classification report:\n",
      "                    precision    recall  f1-score   support\n",
      "\n",
      " Attitude&Emotion       0.45      0.04      0.07       133\n",
      "Culture&Education       0.00      0.00      0.00         8\n",
      "          Finance       0.91      0.42      0.58       100\n",
      "           Health       0.94      0.29      0.45        51\n",
      "     OrdinaryLife       0.67      0.76      0.71       729\n",
      "         Politics       0.00      0.00      0.00        18\n",
      "     Relationship       0.62      0.84      0.72       889\n",
      "       SchoolLife       0.73      0.18      0.29        90\n",
      "          Tourism       0.91      0.45      0.60       213\n",
      "             Work       0.72      0.69      0.70       393\n",
      "\n",
      "         accuracy                           0.67      2624\n",
      "        macro avg       0.59      0.37      0.41      2624\n",
      "     weighted avg       0.68      0.67      0.64      2624\n",
      "\n"
     ]
    },
    {
     "name": "stderr",
     "output_type": "stream",
     "text": [
      "/opt/anaconda3/lib/python3.8/site-packages/sklearn/metrics/_classification.py:1221: UndefinedMetricWarning: Precision and F-score are ill-defined and being set to 0.0 in labels with no predicted samples. Use `zero_division` parameter to control this behavior.\n",
      "  _warn_prf(average, modifier, msg_start, len(result))\n"
     ]
    }
   ],
   "source": [
    "nb_model = MultinomialNB()\n",
    "nb_model.fit(X_train, y_train)\n",
    "y_hat_nb = nb_model.predict(X_test)\n",
    "\n",
    "accuracy_score_nb = metrics.accuracy_score(y_test, y_hat_nb)\n",
    "\n",
    "print(\"nb_model accuracy is : \", accuracy_score_nb)\n",
    "print(\"classification report:\\n\", metrics.classification_report(y_test, y_hat_nb))"
   ]
  },
  {
   "cell_type": "code",
   "execution_count": 45,
   "metadata": {},
   "outputs": [
    {
     "data": {
      "text/html": [
       "<div>\n",
       "<style scoped>\n",
       "    .dataframe tbody tr th:only-of-type {\n",
       "        vertical-align: middle;\n",
       "    }\n",
       "\n",
       "    .dataframe tbody tr th {\n",
       "        vertical-align: top;\n",
       "    }\n",
       "\n",
       "    .dataframe thead th {\n",
       "        text-align: right;\n",
       "    }\n",
       "</style>\n",
       "<table border=\"1\" class=\"dataframe\">\n",
       "  <thead>\n",
       "    <tr style=\"text-align: right;\">\n",
       "      <th></th>\n",
       "      <th>Attitude&amp;Emotion</th>\n",
       "      <th>Culture&amp;Education</th>\n",
       "      <th>Finance</th>\n",
       "      <th>Health</th>\n",
       "      <th>OrdinaryLife</th>\n",
       "      <th>Politics</th>\n",
       "      <th>Relationship</th>\n",
       "      <th>SchoolLife</th>\n",
       "      <th>Tourism</th>\n",
       "      <th>Work</th>\n",
       "    </tr>\n",
       "  </thead>\n",
       "  <tbody>\n",
       "    <tr>\n",
       "      <th>Attitude&amp;Emotion</th>\n",
       "      <td>5</td>\n",
       "      <td>0</td>\n",
       "      <td>0</td>\n",
       "      <td>1</td>\n",
       "      <td>28</td>\n",
       "      <td>0</td>\n",
       "      <td>93</td>\n",
       "      <td>0</td>\n",
       "      <td>0</td>\n",
       "      <td>6</td>\n",
       "    </tr>\n",
       "    <tr>\n",
       "      <th>Culture&amp;Education</th>\n",
       "      <td>0</td>\n",
       "      <td>0</td>\n",
       "      <td>0</td>\n",
       "      <td>0</td>\n",
       "      <td>0</td>\n",
       "      <td>0</td>\n",
       "      <td>7</td>\n",
       "      <td>1</td>\n",
       "      <td>0</td>\n",
       "      <td>0</td>\n",
       "    </tr>\n",
       "    <tr>\n",
       "      <th>Finance</th>\n",
       "      <td>0</td>\n",
       "      <td>0</td>\n",
       "      <td>42</td>\n",
       "      <td>0</td>\n",
       "      <td>22</td>\n",
       "      <td>0</td>\n",
       "      <td>7</td>\n",
       "      <td>0</td>\n",
       "      <td>0</td>\n",
       "      <td>29</td>\n",
       "    </tr>\n",
       "    <tr>\n",
       "      <th>Health</th>\n",
       "      <td>0</td>\n",
       "      <td>0</td>\n",
       "      <td>0</td>\n",
       "      <td>15</td>\n",
       "      <td>13</td>\n",
       "      <td>0</td>\n",
       "      <td>19</td>\n",
       "      <td>0</td>\n",
       "      <td>0</td>\n",
       "      <td>4</td>\n",
       "    </tr>\n",
       "    <tr>\n",
       "      <th>OrdinaryLife</th>\n",
       "      <td>1</td>\n",
       "      <td>0</td>\n",
       "      <td>2</td>\n",
       "      <td>0</td>\n",
       "      <td>554</td>\n",
       "      <td>1</td>\n",
       "      <td>150</td>\n",
       "      <td>1</td>\n",
       "      <td>2</td>\n",
       "      <td>18</td>\n",
       "    </tr>\n",
       "    <tr>\n",
       "      <th>Politics</th>\n",
       "      <td>0</td>\n",
       "      <td>0</td>\n",
       "      <td>0</td>\n",
       "      <td>0</td>\n",
       "      <td>4</td>\n",
       "      <td>0</td>\n",
       "      <td>13</td>\n",
       "      <td>0</td>\n",
       "      <td>1</td>\n",
       "      <td>0</td>\n",
       "    </tr>\n",
       "    <tr>\n",
       "      <th>Relationship</th>\n",
       "      <td>4</td>\n",
       "      <td>0</td>\n",
       "      <td>1</td>\n",
       "      <td>0</td>\n",
       "      <td>91</td>\n",
       "      <td>1</td>\n",
       "      <td>751</td>\n",
       "      <td>3</td>\n",
       "      <td>4</td>\n",
       "      <td>34</td>\n",
       "    </tr>\n",
       "    <tr>\n",
       "      <th>SchoolLife</th>\n",
       "      <td>1</td>\n",
       "      <td>0</td>\n",
       "      <td>0</td>\n",
       "      <td>0</td>\n",
       "      <td>20</td>\n",
       "      <td>0</td>\n",
       "      <td>43</td>\n",
       "      <td>16</td>\n",
       "      <td>0</td>\n",
       "      <td>10</td>\n",
       "    </tr>\n",
       "    <tr>\n",
       "      <th>Tourism</th>\n",
       "      <td>0</td>\n",
       "      <td>0</td>\n",
       "      <td>0</td>\n",
       "      <td>0</td>\n",
       "      <td>70</td>\n",
       "      <td>0</td>\n",
       "      <td>39</td>\n",
       "      <td>1</td>\n",
       "      <td>96</td>\n",
       "      <td>7</td>\n",
       "    </tr>\n",
       "    <tr>\n",
       "      <th>Work</th>\n",
       "      <td>0</td>\n",
       "      <td>0</td>\n",
       "      <td>1</td>\n",
       "      <td>0</td>\n",
       "      <td>30</td>\n",
       "      <td>0</td>\n",
       "      <td>89</td>\n",
       "      <td>0</td>\n",
       "      <td>2</td>\n",
       "      <td>271</td>\n",
       "    </tr>\n",
       "  </tbody>\n",
       "</table>\n",
       "</div>"
      ],
      "text/plain": [
       "                   Attitude&Emotion  Culture&Education  Finance  Health  \\\n",
       "Attitude&Emotion                  5                  0        0       1   \n",
       "Culture&Education                 0                  0        0       0   \n",
       "Finance                           0                  0       42       0   \n",
       "Health                            0                  0        0      15   \n",
       "OrdinaryLife                      1                  0        2       0   \n",
       "Politics                          0                  0        0       0   \n",
       "Relationship                      4                  0        1       0   \n",
       "SchoolLife                        1                  0        0       0   \n",
       "Tourism                           0                  0        0       0   \n",
       "Work                              0                  0        1       0   \n",
       "\n",
       "                   OrdinaryLife  Politics  Relationship  SchoolLife  Tourism  \\\n",
       "Attitude&Emotion             28         0            93           0        0   \n",
       "Culture&Education             0         0             7           1        0   \n",
       "Finance                      22         0             7           0        0   \n",
       "Health                       13         0            19           0        0   \n",
       "OrdinaryLife                554         1           150           1        2   \n",
       "Politics                      4         0            13           0        1   \n",
       "Relationship                 91         1           751           3        4   \n",
       "SchoolLife                   20         0            43          16        0   \n",
       "Tourism                      70         0            39           1       96   \n",
       "Work                         30         0            89           0        2   \n",
       "\n",
       "                   Work  \n",
       "Attitude&Emotion      6  \n",
       "Culture&Education     0  \n",
       "Finance              29  \n",
       "Health                4  \n",
       "OrdinaryLife         18  \n",
       "Politics              0  \n",
       "Relationship         34  \n",
       "SchoolLife           10  \n",
       "Tourism               7  \n",
       "Work                271  "
      ]
     },
     "execution_count": 45,
     "metadata": {},
     "output_type": "execute_result"
    }
   ],
   "source": [
    "# Confusion Matrix\n",
    "cm_df = pd.DataFrame(metrics.confusion_matrix(y_test, y_hat_nb), \n",
    "                                columns = ['Attitude&Emotion','Culture&Education','Finance', 'Health', 'OrdinaryLife', 'Politics', 'Relationship', 'SchoolLife', 'Tourism', 'Work'],\n",
    "                    index =['Attitude&Emotion','Culture&Education','Finance', 'Health', 'OrdinaryLife', 'Politics', 'Relationship', 'SchoolLife', 'Tourism', 'Work'] )\n",
    "\n",
    "cm_df\n"
   ]
  },
  {
   "cell_type": "code",
   "execution_count": 46,
   "metadata": {},
   "outputs": [
    {
     "data": {
      "text/plain": [
       "0.6702917293233083"
      ]
     },
     "execution_count": 46,
     "metadata": {},
     "output_type": "execute_result"
    }
   ],
   "source": [
    "# Cross Validation\n",
    "nb_xval_model = MultinomialNB()\n",
    "nb_xval_scores = cross_val_score(nb_xval_model, X, y, cv=15)\n",
    "nb_xval_scores.mean()"
   ]
  },
  {
   "cell_type": "markdown",
   "metadata": {},
   "source": [
    "## Word Embeddings"
   ]
  },
  {
   "cell_type": "code",
   "execution_count": 47,
   "metadata": {},
   "outputs": [
    {
     "name": "stdout",
     "output_type": "stream",
     "text": [
      "Populating the interactive namespace from numpy and matplotlib\n"
     ]
    }
   ],
   "source": [
    "import pandas as pd\n",
    "from sklearn.linear_model import LogisticRegression\n",
    "from sklearn.naive_bayes import MultinomialNB\n",
    "from sklearn.model_selection import train_test_split\n",
    "from sklearn.model_selection import cross_val_score\n",
    "from sklearn.feature_extraction.text import CountVectorizer\n",
    "from sklearn import metrics\n",
    "%pylab inline"
   ]
  },
  {
   "cell_type": "code",
   "execution_count": 48,
   "metadata": {},
   "outputs": [
    {
     "data": {
      "text/html": [
       "<div>\n",
       "<style scoped>\n",
       "    .dataframe tbody tr th:only-of-type {\n",
       "        vertical-align: middle;\n",
       "    }\n",
       "\n",
       "    .dataframe tbody tr th {\n",
       "        vertical-align: top;\n",
       "    }\n",
       "\n",
       "    .dataframe thead th {\n",
       "        text-align: right;\n",
       "    }\n",
       "</style>\n",
       "<table border=\"1\" class=\"dataframe\">\n",
       "  <thead>\n",
       "    <tr style=\"text-align: right;\">\n",
       "      <th></th>\n",
       "      <th>Dialogue</th>\n",
       "      <th>Topic</th>\n",
       "    </tr>\n",
       "  </thead>\n",
       "  <tbody>\n",
       "    <tr>\n",
       "      <th>0</th>\n",
       "      <td>The kitchen stinks . __eou__ I'll throw out th...</td>\n",
       "      <td>1</td>\n",
       "    </tr>\n",
       "    <tr>\n",
       "      <th>1</th>\n",
       "      <td>So Dick , how about getting some coffee for to...</td>\n",
       "      <td>1</td>\n",
       "    </tr>\n",
       "    <tr>\n",
       "      <th>2</th>\n",
       "      <td>Are things still going badly with your housegu...</td>\n",
       "      <td>1</td>\n",
       "    </tr>\n",
       "    <tr>\n",
       "      <th>3</th>\n",
       "      <td>Would you mind waiting a while ? __eou__ Well ...</td>\n",
       "      <td>1</td>\n",
       "    </tr>\n",
       "    <tr>\n",
       "      <th>4</th>\n",
       "      <td>Are you going to the annual party ? I can give...</td>\n",
       "      <td>1</td>\n",
       "    </tr>\n",
       "    <tr>\n",
       "      <th>...</th>\n",
       "      <td>...</td>\n",
       "      <td>...</td>\n",
       "    </tr>\n",
       "    <tr>\n",
       "      <th>13113</th>\n",
       "      <td>You have done an excellent job this year and w...</td>\n",
       "      <td>10</td>\n",
       "    </tr>\n",
       "    <tr>\n",
       "      <th>13114</th>\n",
       "      <td>Lindsay Tipping gave me your name as a referen...</td>\n",
       "      <td>10</td>\n",
       "    </tr>\n",
       "    <tr>\n",
       "      <th>13115</th>\n",
       "      <td>The consignments of chemical instruments have ...</td>\n",
       "      <td>10</td>\n",
       "    </tr>\n",
       "    <tr>\n",
       "      <th>13116</th>\n",
       "      <td>good morning . How can I help you ? __eou__ I'...</td>\n",
       "      <td>10</td>\n",
       "    </tr>\n",
       "    <tr>\n",
       "      <th>13117</th>\n",
       "      <td>May I ask you a few questions about insurance ...</td>\n",
       "      <td>10</td>\n",
       "    </tr>\n",
       "  </tbody>\n",
       "</table>\n",
       "<p>13118 rows × 2 columns</p>\n",
       "</div>"
      ],
      "text/plain": [
       "                                                Dialogue  Topic\n",
       "0      The kitchen stinks . __eou__ I'll throw out th...      1\n",
       "1      So Dick , how about getting some coffee for to...      1\n",
       "2      Are things still going badly with your housegu...      1\n",
       "3      Would you mind waiting a while ? __eou__ Well ...      1\n",
       "4      Are you going to the annual party ? I can give...      1\n",
       "...                                                  ...    ...\n",
       "13113  You have done an excellent job this year and w...     10\n",
       "13114  Lindsay Tipping gave me your name as a referen...     10\n",
       "13115  The consignments of chemical instruments have ...     10\n",
       "13116  good morning . How can I help you ? __eou__ I'...     10\n",
       "13117  May I ask you a few questions about insurance ...     10\n",
       "\n",
       "[13118 rows x 2 columns]"
      ]
     },
     "execution_count": 48,
     "metadata": {},
     "output_type": "execute_result"
    }
   ],
   "source": [
    "df = pd.read_csv('dialogues_text.csv', encoding = 'utf-8')\n",
    "df"
   ]
  },
  {
   "cell_type": "code",
   "execution_count": 49,
   "metadata": {},
   "outputs": [],
   "source": [
    "def remove_eou(x):\n",
    "    x = x.replace('__eou__', '')\n",
    "    return x   \n",
    "df['Dialogue'] = df['Dialogue'].apply(remove_eou)\n",
    "df['Topic'] = df['Topic'].apply(lambda x: x-1)"
   ]
  },
  {
   "cell_type": "code",
   "execution_count": 50,
   "metadata": {},
   "outputs": [
    {
     "name": "stdout",
     "output_type": "stream",
     "text": [
      "Topic\n",
      "0    3646\n",
      "1     487\n",
      "2      55\n",
      "3     667\n",
      "4    4391\n",
      "5    1065\n",
      "6     267\n",
      "7    1924\n",
      "8     131\n",
      "9     485\n",
      "Name: Dialogue, dtype: int64\n"
     ]
    },
    {
     "data": {
      "text/plain": [
       "<AxesSubplot:xlabel='Topic'>"
      ]
     },
     "execution_count": 50,
     "metadata": {},
     "output_type": "execute_result"
    },
    {
     "data": {
      "image/png": "[encoded data removed]",
      "text/plain": [
       "<Figure size 432x288 with 1 Axes>"
      ]
     },
     "metadata": {
      "needs_background": "light"
     },
     "output_type": "display_data"
    }
   ],
   "source": [
    "print(df.groupby('Topic')['Dialogue'].agg('count'))\n",
    "df.groupby('Topic')['Dialogue'].agg('count').plot(kind='bar')"
   ]
  },
  {
   "cell_type": "code",
   "execution_count": 51,
   "metadata": {},
   "outputs": [
    {
     "data": {
      "text/plain": [
       "55"
      ]
     },
     "execution_count": 51,
     "metadata": {},
     "output_type": "execute_result"
    }
   ],
   "source": [
    "df.groupby('Topic')['Dialogue'].agg('count').min()"
   ]
  },
  {
   "cell_type": "code",
   "execution_count": 52,
   "metadata": {},
   "outputs": [
    {
     "data": {
      "text/plain": [
       "0        0\n",
       "1        0\n",
       "2        0\n",
       "3        0\n",
       "4        0\n",
       "        ..\n",
       "13113    9\n",
       "13114    9\n",
       "13115    9\n",
       "13116    9\n",
       "13117    9\n",
       "Name: Topic, Length: 13118, dtype: int64"
      ]
     },
     "execution_count": 52,
     "metadata": {},
     "output_type": "execute_result"
    }
   ],
   "source": [
    "X = df['Dialogue'].values\n",
    "y = df['Topic']\n",
    "y"
   ]
  },
  {
   "cell_type": "code",
   "execution_count": 53,
   "metadata": {},
   "outputs": [
    {
     "data": {
      "text/html": [
       "<div>\n",
       "<style scoped>\n",
       "    .dataframe tbody tr th:only-of-type {\n",
       "        vertical-align: middle;\n",
       "    }\n",
       "\n",
       "    .dataframe tbody tr th {\n",
       "        vertical-align: top;\n",
       "    }\n",
       "\n",
       "    .dataframe thead th {\n",
       "        text-align: right;\n",
       "    }\n",
       "</style>\n",
       "<table border=\"1\" class=\"dataframe\">\n",
       "  <thead>\n",
       "    <tr style=\"text-align: right;\">\n",
       "      <th></th>\n",
       "      <th>Dialogue</th>\n",
       "      <th>Topic</th>\n",
       "    </tr>\n",
       "  </thead>\n",
       "  <tbody>\n",
       "    <tr>\n",
       "      <th>0</th>\n",
       "      <td>The kitchen stinks .  I'll throw out the garba...</td>\n",
       "      <td>0</td>\n",
       "    </tr>\n",
       "    <tr>\n",
       "      <th>1</th>\n",
       "      <td>So Dick , how about getting some coffee for to...</td>\n",
       "      <td>0</td>\n",
       "    </tr>\n",
       "    <tr>\n",
       "      <th>2</th>\n",
       "      <td>Are things still going badly with your housegu...</td>\n",
       "      <td>0</td>\n",
       "    </tr>\n",
       "    <tr>\n",
       "      <th>3</th>\n",
       "      <td>Would you mind waiting a while ?  Well , how l...</td>\n",
       "      <td>0</td>\n",
       "    </tr>\n",
       "    <tr>\n",
       "      <th>4</th>\n",
       "      <td>Are you going to the annual party ? I can give...</td>\n",
       "      <td>0</td>\n",
       "    </tr>\n",
       "    <tr>\n",
       "      <th>...</th>\n",
       "      <td>...</td>\n",
       "      <td>...</td>\n",
       "    </tr>\n",
       "    <tr>\n",
       "      <th>13113</th>\n",
       "      <td>You have done an excellent job this year and w...</td>\n",
       "      <td>9</td>\n",
       "    </tr>\n",
       "    <tr>\n",
       "      <th>13114</th>\n",
       "      <td>Lindsay Tipping gave me your name as a referen...</td>\n",
       "      <td>9</td>\n",
       "    </tr>\n",
       "    <tr>\n",
       "      <th>13115</th>\n",
       "      <td>The consignments of chemical instruments have ...</td>\n",
       "      <td>9</td>\n",
       "    </tr>\n",
       "    <tr>\n",
       "      <th>13116</th>\n",
       "      <td>good morning . How can I help you ?  I'd like ...</td>\n",
       "      <td>9</td>\n",
       "    </tr>\n",
       "    <tr>\n",
       "      <th>13117</th>\n",
       "      <td>May I ask you a few questions about insurance ...</td>\n",
       "      <td>9</td>\n",
       "    </tr>\n",
       "  </tbody>\n",
       "</table>\n",
       "<p>13118 rows × 2 columns</p>\n",
       "</div>"
      ],
      "text/plain": [
       "                                                Dialogue  Topic\n",
       "0      The kitchen stinks .  I'll throw out the garba...      0\n",
       "1      So Dick , how about getting some coffee for to...      0\n",
       "2      Are things still going badly with your housegu...      0\n",
       "3      Would you mind waiting a while ?  Well , how l...      0\n",
       "4      Are you going to the annual party ? I can give...      0\n",
       "...                                                  ...    ...\n",
       "13113  You have done an excellent job this year and w...      9\n",
       "13114  Lindsay Tipping gave me your name as a referen...      9\n",
       "13115  The consignments of chemical instruments have ...      9\n",
       "13116  good morning . How can I help you ?  I'd like ...      9\n",
       "13117  May I ask you a few questions about insurance ...      9\n",
       "\n",
       "[13118 rows x 2 columns]"
      ]
     },
     "execution_count": 53,
     "metadata": {},
     "output_type": "execute_result"
    }
   ],
   "source": [
    "df"
   ]
  },
  {
   "cell_type": "code",
   "execution_count": 54,
   "metadata": {},
   "outputs": [],
   "source": [
    "# import nltk\n",
    "# nltk.download('stopwords')"
   ]
  },
  {
   "cell_type": "code",
   "execution_count": 55,
   "metadata": {},
   "outputs": [],
   "source": [
    "import string\n",
    "from nltk.tokenize import word_tokenize\n",
    "from nltk.corpus import stopwords\n",
    "\n",
    "\n",
    "dialogues = df[\"Dialogue\"].values.tolist()\n",
    "\n",
    "tokenized_dialogues = []\n",
    "\n",
    "for dialogue in dialogues:\n",
    "    tokens = word_tokenize(dialogue)\n",
    "    tokens = [word.lower() for word in tokens]\n",
    "    table = str.maketrans('', '', string.punctuation)\n",
    "    stripped = [word.translate(table) for word in tokens]\n",
    "    words = [word for word in stripped if word.isalpha()]\n",
    "    stop_words = set(stopwords.words('english'))\n",
    "    words = [word for word in words if not word in stop_words]\n",
    "    tokenized_dialogues.append(words)"
   ]
  },
  {
   "cell_type": "code",
   "execution_count": 56,
   "metadata": {},
   "outputs": [
    {
     "data": {
      "text/plain": [
       "13118"
      ]
     },
     "execution_count": 56,
     "metadata": {},
     "output_type": "execute_result"
    }
   ],
   "source": [
    "len(tokenized_dialogues)"
   ]
  },
  {
   "cell_type": "code",
   "execution_count": 57,
   "metadata": {},
   "outputs": [],
   "source": [
    "max_length = max([len(s.split()) for s in dialogues])"
   ]
  },
  {
   "cell_type": "code",
   "execution_count": 58,
   "metadata": {},
   "outputs": [
    {
     "name": "stderr",
     "output_type": "stream",
     "text": [
      "/opt/anaconda3/lib/python3.8/site-packages/gensim/similarities/__init__.py:15: UserWarning: The gensim.similarities.levenshtein submodule is disabled, because the optional Levenshtein package <https://pypi.org/project/python-Levenshtein/> is unavailable. Install Levenhstein (e.g. `pip install python-Levenshtein`) to suppress this warning.\n",
      "  warnings.warn(msg)\n"
     ]
    },
    {
     "name": "stdout",
     "output_type": "stream",
     "text": [
      "Word2Vec(vocab=21424, vector_size=100, alpha=0.025)\n",
      "Vocabulary size: 21424\n"
     ]
    }
   ],
   "source": [
    "from gensim.models import Word2Vec\n",
    "\n",
    "model = Word2Vec(tokenized_dialogues, min_count=1, sg=1)\n",
    "words = list(model.wv.key_to_index)\n",
    "print(model)\n",
    "print(\"Vocabulary size: %d\" % len(words))"
   ]
  },
  {
   "cell_type": "code",
   "execution_count": 59,
   "metadata": {},
   "outputs": [
    {
     "data": {
      "text/plain": [
       "array([-0.10917552,  0.18180531,  0.34317592,  0.11692126, -0.2890448 ,\n",
       "       -0.09705162,  0.17258644,  0.8168839 ,  0.0802095 , -0.08478609,\n",
       "       -0.3072673 , -0.81777173, -0.42393062,  0.21027903, -0.2552295 ,\n",
       "        0.02447787, -0.04105969,  0.16534019,  0.10511388, -0.49263862,\n",
       "        0.7073876 , -0.27335906, -0.16539656,  0.0259364 , -0.12006025,\n",
       "        0.19010939, -0.35281196, -0.15255687, -0.05439506,  0.380232  ,\n",
       "        0.21542764, -0.10826027,  0.34556293,  0.14123783, -0.38532528,\n",
       "        0.7155278 ,  0.05972655, -0.01899205, -0.20698303, -0.0860732 ,\n",
       "        0.26392   , -0.6078172 , -0.41807282,  0.04202702,  0.15104373,\n",
       "       -0.26119763, -0.2779257 , -0.30398086, -0.02000715, -0.41856688,\n",
       "        0.3709851 , -0.22741774, -0.18390587, -0.2831723 , -0.10971504,\n",
       "        0.16137514,  0.42031252, -0.26000077, -0.04597533,  0.33815736,\n",
       "       -0.34104714, -0.22532696,  0.13114405,  0.3191139 , -0.24966986,\n",
       "        0.335826  ,  0.30747753,  0.08457753, -0.5147607 ,  0.5418666 ,\n",
       "       -0.2231204 ,  0.07403776,  0.01056894,  0.28983828,  0.44179666,\n",
       "        0.6819784 ,  0.5260918 ,  0.15574819, -0.22588447,  0.01123171,\n",
       "       -0.335489  ,  0.01457619, -0.26454774,  0.251136  , -0.5540404 ,\n",
       "       -0.11944096, -0.0660444 , -0.6314561 , -0.09508017,  0.15761738,\n",
       "        0.2637496 ,  0.02887747, -0.21916544, -0.26719746,  0.27117777,\n",
       "       -0.07917586,  0.30208862, -0.21266198,  0.0978967 , -0.22955649],\n",
       "      dtype=float32)"
      ]
     },
     "execution_count": 59,
     "metadata": {},
     "output_type": "execute_result"
    }
   ],
   "source": [
    "model.wv['kitchen']"
   ]
  },
  {
   "cell_type": "code",
   "execution_count": 60,
   "metadata": {},
   "outputs": [
    {
     "data": {
      "text/plain": [
       "[('sad', 0.9373311996459961),\n",
       " ('depressed', 0.932994544506073),\n",
       " ('unhappy', 0.929395318031311),\n",
       " ('boyfriend', 0.9209082126617432),\n",
       " ('mad', 0.9065216779708862),\n",
       " ('awful', 0.8997370004653931),\n",
       " ('ill', 0.8997269868850708),\n",
       " ('surprised', 0.8977682590484619),\n",
       " ('dumped', 0.896877110004425),\n",
       " ('badly', 0.8965039253234863)]"
      ]
     },
     "execution_count": 60,
     "metadata": {},
     "output_type": "execute_result"
    }
   ],
   "source": [
    "# test model\n",
    "model.wv.most_similar(\"upset\")"
   ]
  },
  {
   "cell_type": "code",
   "execution_count": 61,
   "metadata": {},
   "outputs": [],
   "source": [
    "model.wv.save_word2vec_format('embeddings.txt', binary=False)"
   ]
  },
  {
   "cell_type": "code",
   "execution_count": 62,
   "metadata": {},
   "outputs": [],
   "source": [
    "embeddings_index = {}\n",
    "\n",
    "with open(\"embeddings.txt\") as f:\n",
    "    for line in f:\n",
    "        values = line.split()\n",
    "        word = values[0]\n",
    "        coefs = np.asarray(values[1:])\n",
    "        embeddings_index[word] = coefs"
   ]
  },
  {
   "cell_type": "code",
   "execution_count": 63,
   "metadata": {},
   "outputs": [],
   "source": [
    "#pip install tensorflow"
   ]
  },
  {
   "cell_type": "code",
   "execution_count": 64,
   "metadata": {},
   "outputs": [],
   "source": [
    "from tensorflow.python.keras.preprocessing.text import Tokenizer\n",
    "from tensorflow.python.keras.preprocessing.sequence import pad_sequences\n",
    "tokenizer_obj = Tokenizer()\n",
    "tokenizer_obj.fit_on_texts(tokenized_dialogues)\n",
    "sequences = tokenizer_obj.texts_to_sequences(tokenized_dialogues)"
   ]
  },
  {
   "cell_type": "code",
   "execution_count": 65,
   "metadata": {},
   "outputs": [
    {
     "name": "stdout",
     "output_type": "stream",
     "text": [
      "13118\n"
     ]
    }
   ],
   "source": [
    "print(len(sequences))"
   ]
  },
  {
   "cell_type": "code",
   "execution_count": 66,
   "metadata": {},
   "outputs": [
    {
     "name": "stdout",
     "output_type": "stream",
     "text": [
      "Found 21424 unique tokens.\n",
      "Shape of dialogue tensor: (13118, 850)\n",
      "Shape of topic tensor: (13118,)\n"
     ]
    }
   ],
   "source": [
    "word_index = tokenizer_obj.word_index\n",
    "print('Found %s unique tokens.' % len(word_index))\n",
    "\n",
    "dialogue_pad = pad_sequences(sequences, maxlen=max_length)\n",
    "topic = df['Topic'].values\n",
    "\n",
    "print('Shape of dialogue tensor:', dialogue_pad.shape)\n",
    "print('Shape of topic tensor:', topic.shape)"
   ]
  },
  {
   "cell_type": "code",
   "execution_count": 67,
   "metadata": {},
   "outputs": [],
   "source": [
    "topic = np.reshape(topic, (-1, 1))"
   ]
  },
  {
   "cell_type": "code",
   "execution_count": 68,
   "metadata": {},
   "outputs": [],
   "source": [
    "num_words = len(word_index)+1\n",
    "embedding_matrix = np.zeros((num_words, 100)) #Embedding dimention=100\n",
    "\n",
    "for word, i in word_index.items():\n",
    "    if i > num_words:\n",
    "        continue\n",
    "    embedding_vector = embeddings_index.get(word)\n",
    "    if embedding_vector is not None:\n",
    "        embedding_matrix[i] = embedding_vector"
   ]
  },
  {
   "cell_type": "code",
   "execution_count": 69,
   "metadata": {},
   "outputs": [],
   "source": [
    "#pip install keras"
   ]
  },
  {
   "cell_type": "code",
   "execution_count": 70,
   "metadata": {},
   "outputs": [],
   "source": [
    "from keras.models import Sequential\n",
    "from keras.layers import Dense, Embedding, LSTM, GRU\n",
    "from keras.layers.embeddings import Embedding\n",
    "from keras.initializers import Constant\n",
    "from keras.optimizers import SGD\n",
    "from keras.losses import CategoricalCrossentropy\n",
    "from keras.utils import to_categorical"
   ]
  },
  {
   "cell_type": "code",
   "execution_count": 71,
   "metadata": {},
   "outputs": [],
   "source": [
    "model_keras = Sequential()\n",
    "embedding_layer = Embedding(num_words, \n",
    "                            100, \n",
    "                            embeddings_initializer=Constant(embedding_matrix),\n",
    "                            input_length = max_length,\n",
    "                            trainable=False)\n",
    "model_keras.add(embedding_layer)\n",
    "model_keras.add(GRU(units=32, dropout=0.2, recurrent_dropout=0.2))\n",
    "model_keras.add(Dense(10, activation='softmax'))\n",
    "model_keras.compile(loss=CategoricalCrossentropy(), optimizer='adam', metrics=['accuracy'])"
   ]
  },
  {
   "cell_type": "code",
   "execution_count": 72,
   "metadata": {},
   "outputs": [
    {
     "name": "stdout",
     "output_type": "stream",
     "text": [
      "Model: \"sequential\"\n",
      "_________________________________________________________________\n",
      "Layer (type)                 Output Shape              Param #   \n",
      "=================================================================\n",
      "embedding (Embedding)        (None, 850, 100)          2142500   \n",
      "_________________________________________________________________\n",
      "gru (GRU)                    (None, 32)                12864     \n",
      "_________________________________________________________________\n",
      "dense (Dense)                (None, 10)                330       \n",
      "=================================================================\n",
      "Total params: 2,155,694\n",
      "Trainable params: 13,194\n",
      "Non-trainable params: 2,142,500\n",
      "_________________________________________________________________\n"
     ]
    }
   ],
   "source": [
    "model_keras.summary()"
   ]
  },
  {
   "cell_type": "code",
   "execution_count": 73,
   "metadata": {},
   "outputs": [],
   "source": [
    "VALIDATION_SPLIT = 0.2\n",
    "\n",
    "indices = np.arange(dialogue_pad.shape[0])\n",
    "np.random.shuffle(indices)\n",
    "dialogue_pad = dialogue_pad[indices]\n",
    "topic = topic[indices]\n",
    "num_validation_samples = int(VALIDATION_SPLIT * dialogue_pad.shape[0])\n",
    "X_train_pad = dialogue_pad[:-num_validation_samples]\n",
    "y_train = to_categorical(topic[:-num_validation_samples])\n",
    "X_test_pad = dialogue_pad[-num_validation_samples:]\n",
    "y_test = to_categorical(topic[-num_validation_samples:])"
   ]
  },
  {
   "cell_type": "code",
   "execution_count": 74,
   "metadata": {},
   "outputs": [
    {
     "name": "stdout",
     "output_type": "stream",
     "text": [
      "[0. 0. 0. 0. 0. 1. 0. 0. 0. 0.]\n"
     ]
    }
   ],
   "source": [
    "print(y_train[0])"
   ]
  },
  {
   "cell_type": "code",
   "execution_count": 75,
   "metadata": {},
   "outputs": [
    {
     "name": "stdout",
     "output_type": "stream",
     "text": [
      "Shape of X_train_pad tensor: (10495, 850)\n",
      "Shape of y_train tensor: (10495, 10)\n",
      "Shape of x_test_pad tensor: (2623, 850)\n",
      "Shape of y_test tensor: (2623, 10)\n"
     ]
    }
   ],
   "source": [
    "print('Shape of X_train_pad tensor:', X_train_pad.shape)\n",
    "print('Shape of y_train tensor:', y_train.shape)\n",
    "\n",
    "print('Shape of x_test_pad tensor:', X_test_pad.shape)\n",
    "print('Shape of y_test tensor:', y_test.shape)"
   ]
  },
  {
   "cell_type": "code",
   "execution_count": 76,
   "metadata": {},
   "outputs": [
    {
     "name": "stdout",
     "output_type": "stream",
     "text": [
      "Epoch 1/10\n",
      "328/328 - 191s - loss: 1.6356 - accuracy: 0.4265 - val_loss: 1.3606 - val_accuracy: 0.5376\n",
      "Epoch 2/10\n",
      "328/328 - 191s - loss: 1.3284 - accuracy: 0.5505 - val_loss: 1.2279 - val_accuracy: 0.5875\n",
      "Epoch 3/10\n",
      "328/328 - 183s - loss: 1.2546 - accuracy: 0.5797 - val_loss: 1.1696 - val_accuracy: 0.6039\n",
      "Epoch 4/10\n",
      "328/328 - 185s - loss: 1.2018 - accuracy: 0.5987 - val_loss: 1.1250 - val_accuracy: 0.6100\n",
      "Epoch 5/10\n",
      "328/328 - 216s - loss: 1.1553 - accuracy: 0.6068 - val_loss: 1.0769 - val_accuracy: 0.6256\n",
      "Epoch 6/10\n",
      "328/328 - 245s - loss: 1.1122 - accuracy: 0.6174 - val_loss: 1.0391 - val_accuracy: 0.6470\n",
      "Epoch 7/10\n",
      "328/328 - 239s - loss: 1.0744 - accuracy: 0.6298 - val_loss: 1.0208 - val_accuracy: 0.6374\n",
      "Epoch 8/10\n",
      "328/328 - 249s - loss: 1.0477 - accuracy: 0.6351 - val_loss: 0.9959 - val_accuracy: 0.6584\n",
      "Epoch 9/10\n",
      "328/328 - 215s - loss: 1.0255 - accuracy: 0.6407 - val_loss: 0.9874 - val_accuracy: 0.6527\n",
      "Epoch 10/10\n",
      "328/328 - 213s - loss: 1.0032 - accuracy: 0.6502 - val_loss: 0.9722 - val_accuracy: 0.6668\n"
     ]
    },
    {
     "data": {
      "text/plain": [
       "<tensorflow.python.keras.callbacks.History at 0x7ffd4ae83100>"
      ]
     },
     "execution_count": 76,
     "metadata": {},
     "output_type": "execute_result"
    }
   ],
   "source": [
    "model_keras.fit(X_train_pad, y_train, batch_size=32, epochs=10, validation_data=(X_test_pad, y_test), verbose=2)"
   ]
  },
  {
   "cell_type": "code",
   "execution_count": 77,
   "metadata": {},
   "outputs": [
    {
     "name": "stdout",
     "output_type": "stream",
     "text": [
      "82/82 - 6s - loss: 0.9722 - accuracy: 0.6668\n",
      "0.972160816192627 0.6667937636375427\n"
     ]
    }
   ],
   "source": [
    "loss, accuracy = model_keras.evaluate(X_test_pad, y_test, verbose=2)\n",
    "print(loss, accuracy)"
   ]
  },
  {
   "cell_type": "code",
   "execution_count": 78,
   "metadata": {},
   "outputs": [
    {
     "name": "stdout",
     "output_type": "stream",
     "text": [
      "82/82 [==============================] - 7s 76ms/step\n"
     ]
    }
   ],
   "source": [
    "y_pred = model_keras.predict(X_test_pad, batch_size=32, verbose=1)\n",
    "y_hat = []\n",
    "for i in y_pred:\n",
    "    new_pred = [0]*10\n",
    "    max_index = list(i).index(max(i))\n",
    "    new_pred[max_index] = 1\n",
    "    y_hat.append(new_pred)\n"
   ]
  },
  {
   "cell_type": "code",
   "execution_count": 79,
   "metadata": {},
   "outputs": [
    {
     "name": "stdout",
     "output_type": "stream",
     "text": [
      "word embeddings model accuracy is :  0.6667937636375427\n",
      "              precision    recall  f1-score   support\n",
      "\n",
      "           0       0.65      0.70      0.67       735\n",
      "           1       0.52      0.36      0.42        84\n",
      "           2       0.00      0.00      0.00         6\n",
      "           3       0.50      0.01      0.02       122\n",
      "           4       0.67      0.80      0.73       880\n",
      "           5       0.64      0.59      0.61       219\n",
      "           6       0.64      0.48      0.55        44\n",
      "           7       0.73      0.69      0.71       410\n",
      "           8       0.00      0.00      0.00        23\n",
      "           9       0.73      0.66      0.69       100\n",
      "\n",
      "   micro avg       0.67      0.67      0.67      2623\n",
      "   macro avg       0.51      0.43      0.44      2623\n",
      "weighted avg       0.65      0.67      0.64      2623\n",
      " samples avg       0.67      0.67      0.67      2623\n",
      "\n"
     ]
    },
    {
     "name": "stderr",
     "output_type": "stream",
     "text": [
      "/opt/anaconda3/lib/python3.8/site-packages/sklearn/metrics/_classification.py:1221: UndefinedMetricWarning: Precision and F-score are ill-defined and being set to 0.0 in labels with no predicted samples. Use `zero_division` parameter to control this behavior.\n",
      "  _warn_prf(average, modifier, msg_start, len(result))\n"
     ]
    }
   ],
   "source": [
    "from sklearn.metrics import classification_report\n",
    "print(\"word embeddings model accuracy is : \", accuracy)\n",
    "print(classification_report(y_test, y_hat))"
   ]
  }
 ],
 "metadata": {
  "kernelspec": {
   "display_name": "Python 3",
   "language": "python",
   "name": "python3"
  },
  "language_info": {
   "codemirror_mode": {
    "name": "ipython",
    "version": 3
   },
   "file_extension": ".py",
   "mimetype": "text/x-python",
   "name": "python",
   "nbconvert_exporter": "python",
   "pygments_lexer": "ipython3",
   "version": "3.8.5"
  }
 },
 "nbformat": 4,
 "nbformat_minor": 5
}
